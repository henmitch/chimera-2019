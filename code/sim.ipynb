{
 "cells": [
  {
   "cell_type": "code",
   "execution_count": null,
   "metadata": {},
   "outputs": [],
   "source": [
    "%matplotlib inline\n",
    "import numpy as np\n",
    "import matplotlib.pyplot as plt\n",
    "\n",
    "from scipy.integrate import solve_ivp"
   ]
  },
  {
   "cell_type": "code",
   "execution_count": null,
   "metadata": {},
   "outputs": [],
   "source": [
    "def Θ(x, x_rev, λ, θ):\n",
    "    xk, xj = np.meshgrid(x, x)\n",
    "    return (xj - x_rev)/(1 + np.exp(-λ*(xk - θ)))"
   ]
  },
  {
   "cell_type": "code",
   "execution_count": null,
   "metadata": {},
   "outputs": [],
   "source": [
    "def dΘ_dx(x, λ, θ):\n",
    "    final = np.ones((x.size, x.size))*1/(1 + np.exp(-λ*(x - θ)))\n",
    "    np.fill_diagonal(final, final.diagonal() + x*λ*np.exp(-λ*(x - θ))/(1+np.exp(-λ*(x - θ)))**2)\n",
    "    return final"
   ]
  },
  {
   "cell_type": "code",
   "execution_count": null,
   "metadata": {
    "code_folding": [
     11,
     13,
     16,
     18,
     20,
     22,
     24,
     26,
     28,
     30,
     32,
     34,
     36,
     38,
     40,
     42,
     47
    ]
   },
   "outputs": [],
   "source": [
    "def hr_dots(current, t0, b, i0, x_rev, λ, θ, μ, s, x_rest, α, n1, β, n2, G1, G2):\n",
    "    x, y, z = map(lambda k: k.flatten(), np.split(current, 3))\n",
    "    theta = Θ(x, x_rev, λ, θ)\n",
    "    dots = np.zeros_like(current).reshape(3, -1)\n",
    "    dots[0] = y - (x**3) + b*(x**2) + i0 - z - (α/n1)*np.sum(G1*theta, axis=1) - (β/n2)*np.sum(G2*theta, axis=1)\n",
    "    dots[1] = 1 - 5*(x**2) - y\n",
    "    dots[2] = μ*(s*(x - x_rest) - z)\n",
    "    return np.hstack([dots[i] for i in range(3)])"
   ]
  },
  {
   "cell_type": "code",
   "execution_count": null,
   "metadata": {},
   "outputs": [],
   "source": [
    "def jac(_, y_in):\n",
    "    x, y, z = map(lambda k: k.flatten(), np.split(y_in, 3))\n",
    "    dtheta_dx = dΘ_dx(x, λ, θ)\n",
    "    dẋ_dx = -3*x**2 + 2*b*x - (α/n1)*G1*dtheta_dx - (β/n2)*G2*dtheta_dx\n",
    "    dẋ_dy = np.ones_like(dẋ_dx)\n",
    "    dẋ_dz = -np.ones_like(dẋ_dy)\n",
    "\n",
    "    dẏ_dx = -10*x*np.ones_like(dẋ_dz)\n",
    "    dẏ_dy = -np.ones_like(dẏ_dx)\n",
    "    dẏ_dz = np.zeros_like(dẏ_dy)\n",
    "\n",
    "    dż_dx = μ*s*np.ones_like(dẏ_dz)\n",
    "    dż_dy = np.zeros_like(dż_dx)\n",
    "    dż_dz = -μ*np.ones_like(dż_dy)\n",
    "\n",
    "    j_x = [dẋ_dx, dẋ_dy, dẋ_dz]\n",
    "    j_y = [dẏ_dx, dẏ_dy, dẏ_dz]\n",
    "    j_z = [dż_dx, dż_dy, dż_dz]\n",
    "\n",
    "    return np.vstack([np.hstack(j_x), np.hstack(j_y), np.hstack(j_z)])"
   ]
  },
  {
   "cell_type": "code",
   "execution_count": null,
   "metadata": {},
   "outputs": [],
   "source": [
    "def cortex_size(mask, val):\n",
    "    return int(np.sqrt(mask[mask == val].shape))"
   ]
  },
  {
   "cell_type": "code",
   "execution_count": null,
   "metadata": {},
   "outputs": [],
   "source": [
    "n = np.loadtxt(\"connectomes/cat_connectome\")/3\n",
    "cortex_mask = np.zeros_like(n)\n",
    "cortex_mask[:18, :18] = 1\n",
    "cortex_mask[18:28, 18:28] = 2\n",
    "cortex_mask[28:45, 28:45] = 3\n",
    "cortex_mask[45:, 45:] = 4\n",
    "G1 = n.copy()\n",
    "G1[cortex_mask == 0] = 0\n",
    "G2 = n.copy()\n",
    "G2[cortex_mask != 0] = 0"
   ]
  },
  {
   "cell_type": "code",
   "execution_count": null,
   "metadata": {},
   "outputs": [],
   "source": [
    "# For validation\n",
    "for i in [1, 2, 3, 4]:\n",
    "    print(i, cortex_size(cortex_mask, i))"
   ]
  },
  {
   "cell_type": "code",
   "execution_count": null,
   "metadata": {},
   "outputs": [],
   "source": [
    "plt.matshow(n)\n",
    "plt.colorbar()"
   ]
  },
  {
   "cell_type": "code",
   "execution_count": null,
   "metadata": {},
   "outputs": [],
   "source": [
    "b = 3.2                           # Controls spiking frequency\n",
    "i0 = 4.4*np.ones(n.shape[0])      # Input current ---- It's an array so we can add noise later\n",
    "x_rev = 2                         # Reverse potential\n",
    "λ = 10                            # Sigmoidal function parameter\n",
    "θ = -0.25                         # Sigmoidal function parameter\n",
    "μ = 0.01                          # Time scale of slow current\n",
    "s = 4.0                           # Governs adaptation (whatever that means)\n",
    "x_rest = 1.6                      # Resting potential\n",
    "α = 0.210                         # Intra connection strength ---- VARIED PARAMETER\n",
    "n1 = np.count_nonzero(G1, axis=1) # Number of intra connections from a given neuron\n",
    "n1[n1 == 0] = 1                   # This is to remove a divide-by-zero; if n1 is 0, then so is G1\n",
    "β = 0.040                         # Inter connection strength ---- VARIED PARAMETER\n",
    "n2 = np.count_nonzero(G2, axis=1) # Number of inter connections from a given neuron\n",
    "n2[n2 == 0] = 1                   # This is to remove a divide-by-zero; if n2 is 0, then so is G2"
   ]
  },
  {
   "cell_type": "code",
   "execution_count": null,
   "metadata": {},
   "outputs": [],
   "source": [
    "ivs = np.zeros([3, n.shape[0]])   # Initial values [[x], [y], [z]]\n",
    "ivs[0] = 4*np.random.random(n.shape[0]) - 2\n",
    "ivs[1] = 0.2*np.random.random(n.shape[0])\n",
    "ivs[2] = 0.2*np.random.random(n.shape[0])"
   ]
  },
  {
   "cell_type": "code",
   "execution_count": null,
   "metadata": {},
   "outputs": [],
   "source": [
    "plt.plot(ivs[0], label=\"x\")\n",
    "plt.plot(ivs[1], label=\"y\")\n",
    "plt.plot(ivs[2], label=\"z\")\n",
    "plt.legend()"
   ]
  },
  {
   "cell_type": "code",
   "execution_count": null,
   "metadata": {},
   "outputs": [],
   "source": [
    "plt.matshow(jac(0, ivs))\n",
    "plt.colorbar()"
   ]
  },
  {
   "cell_type": "code",
   "execution_count": null,
   "metadata": {},
   "outputs": [],
   "source": [
    "plt.hist(ivs[0], label=\"x\")\n",
    "plt.hist(ivs[1], label=\"y\")\n",
    "plt.hist(ivs[2], label=\"z\")\n",
    "plt.legend()"
   ]
  },
  {
   "cell_type": "code",
   "execution_count": null,
   "metadata": {},
   "outputs": [],
   "source": [
    "params = (b, i0, x_rev, λ, θ, μ, s, x_rest, α, n1, β, n2, G1, G2)"
   ]
  },
  {
   "cell_type": "code",
   "execution_count": null,
   "metadata": {},
   "outputs": [],
   "source": [
    "tmax = 4000\n",
    "N = 100*tmax\n",
    "t = np.linspace(0, tmax, N)"
   ]
  },
  {
   "cell_type": "code",
   "execution_count": null,
   "metadata": {},
   "outputs": [],
   "source": [
    "def plot_beginning_and_end(y, start, end, p=0.99, legend=False, title=True):\n",
    "    fig, [ax1, ax2] = plt.subplots(1, 2, sharey=True)\n",
    "    for i in range(start, end):\n",
    "        ax1.plot(y[:int(p*y.shape[0]), 0, i], label=i)\n",
    "        ax2.plot(y[int((1 - p)*y.shape[0]):, 0, i], label=i)\n",
    "    if legend:\n",
    "        ax1.legend(loc=\"lower left\")\n",
    "    if title:\n",
    "        plt.suptitle(f\"First and last {100*p}% of neurons {start} - {end}\")"
   ]
  },
  {
   "cell_type": "code",
   "execution_count": null,
   "metadata": {},
   "outputs": [],
   "source": [
    "%%time\n",
    "sol = solve_ivp(fun=lambda t_in, y_in: hr_dots(y_in, t_in, *params),\n",
    "                t_span=(0, tmax), y0=ivs.reshape(ivs.size),\n",
    "                max_step=1e-1, dense_output=True, method=\"LSODA\", jac=jac)"
   ]
  },
  {
   "cell_type": "code",
   "execution_count": null,
   "metadata": {},
   "outputs": [],
   "source": [
    "tmax/len(sol.t)"
   ]
  },
  {
   "cell_type": "code",
   "execution_count": null,
   "metadata": {},
   "outputs": [],
   "source": [
    "vals = sol.sol(t).T"
   ]
  },
  {
   "cell_type": "code",
   "execution_count": null,
   "metadata": {},
   "outputs": [],
   "source": [
    "vals = vals.reshape(-1, 3, 65)"
   ]
  },
  {
   "cell_type": "code",
   "execution_count": null,
   "metadata": {},
   "outputs": [],
   "source": [
    "vals.shape"
   ]
  },
  {
   "cell_type": "code",
   "execution_count": null,
   "metadata": {},
   "outputs": [],
   "source": [
    "plt.plot(range(18), vals[-1, 0, :18], \"ro\")\n",
    "plt.plot(range(18, 28), vals[-1, 0, 18:28], \"k^\")\n",
    "plt.plot(range(28, 45), vals[-1, 0, 28:45], \"gX\")\n",
    "plt.plot(range(45, 65), vals[-1, 0, 45:], \"bD\")\n",
    "plt.title(\"α = {}, β = {}, t = {}\".format(α, β, tmax))"
   ]
  },
  {
   "cell_type": "code",
   "execution_count": null,
   "metadata": {},
   "outputs": [],
   "source": [
    "p = 0.0025"
   ]
  },
  {
   "cell_type": "code",
   "execution_count": null,
   "metadata": {},
   "outputs": [],
   "source": [
    "plot_beginning_and_end(vals, 0, 65, legend=False, p=p)"
   ]
  },
  {
   "cell_type": "code",
   "execution_count": null,
   "metadata": {},
   "outputs": [],
   "source": [
    "plot_beginning_and_end(vals, 0, 18, p=p)"
   ]
  },
  {
   "cell_type": "code",
   "execution_count": null,
   "metadata": {},
   "outputs": [],
   "source": [
    "plot_beginning_and_end(vals, 18, 28, p=p)"
   ]
  },
  {
   "cell_type": "code",
   "execution_count": null,
   "metadata": {},
   "outputs": [],
   "source": [
    "plot_beginning_and_end(vals, 28, 45, p=p)"
   ]
  },
  {
   "cell_type": "code",
   "execution_count": null,
   "metadata": {},
   "outputs": [],
   "source": [
    "plot_beginning_and_end(vals, 45, 65, p=p)"
   ]
  },
  {
   "cell_type": "code",
   "execution_count": null,
   "metadata": {},
   "outputs": [],
   "source": [
    "α = 0.001\n",
    "β = 0.001"
   ]
  },
  {
   "cell_type": "code",
   "execution_count": null,
   "metadata": {},
   "outputs": [],
   "source": [
    "params = (b, i0, x_rev, λ, θ, μ, s, x_rest, α, n1, β, n2, G1, G2)"
   ]
  },
  {
   "cell_type": "code",
   "execution_count": null,
   "metadata": {},
   "outputs": [],
   "source": [
    "%%time\n",
    "sol = solve_ivp(fun=lambda t_in, y_in: hr_dots(y_in, t_in, *params),\n",
    "                t_span=(0, tmax), y0=ivs.reshape(ivs.size),\n",
    "                max_step=1e-1, dense_output=True, method=\"LSODA\", jac=jac)"
   ]
  },
  {
   "cell_type": "code",
   "execution_count": null,
   "metadata": {},
   "outputs": [],
   "source": [
    "tmax/len(sol.t)"
   ]
  },
  {
   "cell_type": "code",
   "execution_count": null,
   "metadata": {},
   "outputs": [],
   "source": [
    "vals = sol.sol(t).T"
   ]
  },
  {
   "cell_type": "code",
   "execution_count": null,
   "metadata": {},
   "outputs": [],
   "source": [
    "vals = vals.reshape(-1, 3, 65)"
   ]
  },
  {
   "cell_type": "code",
   "execution_count": null,
   "metadata": {},
   "outputs": [],
   "source": [
    "vals.shape"
   ]
  },
  {
   "cell_type": "code",
   "execution_count": null,
   "metadata": {},
   "outputs": [],
   "source": [
    "plt.plot(range(18), vals[-1, 0, :18], \"ro\")\n",
    "plt.plot(range(18, 28), vals[-1, 0, 18:28], \"k^\")\n",
    "plt.plot(range(28, 45), vals[-1, 0, 28:45], \"gX\")\n",
    "plt.plot(range(45, 65), vals[-1, 0, 45:], \"bD\")\n",
    "plt.title(\"α = {}, β = {}, t = {}\".format(α, β, tmax))"
   ]
  },
  {
   "cell_type": "code",
   "execution_count": null,
   "metadata": {},
   "outputs": [],
   "source": [
    "plot_beginning_and_end(vals, 0, 65, legend=False, p=p)"
   ]
  },
  {
   "cell_type": "code",
   "execution_count": null,
   "metadata": {},
   "outputs": [],
   "source": [
    "plot_beginning_and_end(vals, 0, 18, p=p)"
   ]
  },
  {
   "cell_type": "code",
   "execution_count": null,
   "metadata": {},
   "outputs": [],
   "source": [
    "plot_beginning_and_end(vals, 18, 28, p=p)"
   ]
  },
  {
   "cell_type": "code",
   "execution_count": null,
   "metadata": {},
   "outputs": [],
   "source": [
    "plot_beginning_and_end(vals, 28, 45, p=p)"
   ]
  },
  {
   "cell_type": "code",
   "execution_count": null,
   "metadata": {},
   "outputs": [],
   "source": [
    "plot_beginning_and_end(vals, 45, 65, p=p)"
   ]
  }
 ],
 "metadata": {
  "kernelspec": {
   "display_name": "Python 3",
   "language": "python",
   "name": "python3"
  },
  "language_info": {
   "codemirror_mode": {
    "name": "ipython",
    "version": 3
   },
   "file_extension": ".py",
   "mimetype": "text/x-python",
   "name": "python",
   "nbconvert_exporter": "python",
   "pygments_lexer": "ipython3",
   "version": "3.6.5"
  }
 },
 "nbformat": 4,
 "nbformat_minor": 2
}
