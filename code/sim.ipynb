{
 "cells": [
  {
   "cell_type": "code",
   "execution_count": 1,
   "metadata": {},
   "outputs": [],
   "source": [
    "%matplotlib inline\n",
    "import datetime as dt\n",
    "import numpy as np\n",
    "import matplotlib.pyplot as plt\n",
    "\n",
    "from matplotlib.colors import LogNorm\n",
    "from scipy.integrate import odeint, solve_ivp"
   ]
  },
  {
   "cell_type": "code",
   "execution_count": 2,
   "metadata": {},
   "outputs": [],
   "source": [
    "def Θ(x, x_rev, λ, θ):\n",
    "    xj, xk = np.meshgrid(x, x)\n",
    "    return (xj - x_rev)/(1 + np.exp(-λ*(xk - θ)))"
   ]
  },
  {
   "cell_type": "code",
   "execution_count": 3,
   "metadata": {},
   "outputs": [],
   "source": [
    "def dΘ_dx(x, λ, θ):\n",
    "    return 1/(1 + np.exp(-λ*(x - θ)))"
   ]
  },
  {
   "cell_type": "code",
   "execution_count": 4,
   "metadata": {
    "code_folding": [
     11,
     13,
     16,
     18,
     20,
     22,
     24,
     26,
     28,
     30,
     32,
     34,
     36,
     38,
     40,
     42,
     47
    ]
   },
   "outputs": [],
   "source": [
    "def hr_dots(current, t0, b, i0, x_rev, λ, θ, μ, s, x_rest, α, n1, β, n2, G1, G2):\n",
    "    x, y, z = map(lambda k: k.flatten(), np.split(current, 3))\n",
    "    theta = Θ(x, x_rev, λ, θ)\n",
    "    dots = np.zeros_like(current).reshape(3, -1)\n",
    "    dots[0] = y - (x**3) + b*(x**2) + i0 - z - (α/n1)*np.sum(G1*theta, axis=1) - (β/n2)*np.sum(G2*theta, axis=1)\n",
    "    dots[1] = 1 - 5*(x**2) - y\n",
    "    dots[2] = μ*(s*(x - x_rest) - z)\n",
    "    return np.hstack([dots[i] for i in range(3)])"
   ]
  },
  {
   "cell_type": "code",
   "execution_count": 5,
   "metadata": {},
   "outputs": [],
   "source": [
    "def jac(_, y_in):\n",
    "    x, y, z = map(lambda k: k.flatten(), np.split(y_in, 3))\n",
    "    dtheta_dx = dΘ_dx(x, λ, θ)\n",
    "    dẋ_dx = -3*x**2 + 2*b*x - (α/n1)*G1*dtheta_dx - (β/n2)*G2*dtheta_dx\n",
    "    dẋ_dy = np.ones_like(dẋ_dx)\n",
    "    dẋ_dz = -np.ones_like(dẋ_dy)\n",
    "\n",
    "    dẏ_dx = -10*x*np.ones_like(dẋ_dz)\n",
    "    dẏ_dy = -np.ones_like(dẏ_dx)\n",
    "    dẏ_dz = np.zeros_like(dẏ_dy)\n",
    "\n",
    "    dż_dx = μ*s*np.ones_like(dẏ_dz)\n",
    "    dż_dy = np.zeros_like(dż_dx)\n",
    "    dż_dz = -μ*np.ones_like(dż_dy)\n",
    "\n",
    "    j_x = [dẋ_dx, dẋ_dy, dẋ_dz]\n",
    "    j_y = [dẏ_dx, dẏ_dy, dẏ_dz]\n",
    "    j_z = [dż_dx, dż_dy, dż_dz]\n",
    "\n",
    "    return np.vstack([np.hstack(j_x), np.hstack(j_y), np.hstack(j_z)])"
   ]
  },
  {
   "cell_type": "code",
   "execution_count": 6,
   "metadata": {},
   "outputs": [],
   "source": [
    "def cortex_size(mask, val):\n",
    "    return int(np.sqrt(mask[mask == val].shape))"
   ]
  },
  {
   "cell_type": "code",
   "execution_count": 7,
   "metadata": {},
   "outputs": [],
   "source": [
    "n = np.loadtxt(\"connectomes/cat_connectome\")/3\n",
    "cortex_mask = np.zeros_like(n)\n",
    "cortex_mask[:18, :18] = 1\n",
    "cortex_mask[18:28, 18:28] = 2\n",
    "cortex_mask[28:45, 28:45] = 3\n",
    "cortex_mask[45:, 45:] = 4\n",
    "G1 = n.copy()\n",
    "G1[cortex_mask == 0] = 0\n",
    "G2 = n.copy()\n",
    "G2[cortex_mask != 0] = 0"
   ]
  },
  {
   "cell_type": "code",
   "execution_count": 8,
   "metadata": {},
   "outputs": [
    {
     "name": "stdout",
     "output_type": "stream",
     "text": [
      "1 18\n",
      "2 10\n",
      "3 17\n",
      "4 20\n"
     ]
    }
   ],
   "source": [
    "# For validation\n",
    "for i in [1, 2, 3, 4]:\n",
    "    print(i, cortex_size(cortex_mask, i))"
   ]
  },
  {
   "cell_type": "code",
   "execution_count": 9,
   "metadata": {},
   "outputs": [
    {
     "data": {
      "image/png": "[encoded data removed]",
      "text/plain": [
       "<Figure size 288x288 with 2 Axes>"
      ]
     },
     "metadata": {},
     "output_type": "display_data"
    }
   ],
   "source": [
    "plt.matshow(n)\n",
    "plt.colorbar()\n",
    "plt.savefig(\"tmp\", dpi=600)"
   ]
  },
  {
   "cell_type": "code",
   "execution_count": 10,
   "metadata": {},
   "outputs": [],
   "source": [
    "b = 3.2                           # Controls spiking frequency\n",
    "i0 = 4.4*np.ones(n.shape[0])      # Input current ---- It's an array so we can add noise later\n",
    "x_rev = 2                         # Reverse potential\n",
    "λ = 10                            # Sigmoidal function parameter\n",
    "θ = -0.25                         # Sigmoidal function parameter\n",
    "μ = 0.01                          # Time scale of slow current\n",
    "s = 4.0                           # Governs adaptation (whatever that means)\n",
    "x_rest = 1.6                      # Resting potential\n",
    "α = 0.210                         # Intra connection strength ---- VARIED PARAMETER\n",
    "n1 = np.count_nonzero(G1, axis=1) # Number of intra connections from a given neuron\n",
    "n1[n1 == 0] = 1                   # This is to remove a divide-by-zero; if n1 is 0, then so is G1\n",
    "β = 0.040                         # Inter connection strength ---- VARIED PARAMETER\n",
    "n2 = np.count_nonzero(G2, axis=1) # Number of inter connections from a given neuron\n",
    "n2[n2 == 0] = 1                   # This is to remove a divide-by-zero; if n2 is 0, then so is G2"
   ]
  },
  {
   "cell_type": "code",
   "execution_count": 11,
   "metadata": {},
   "outputs": [],
   "source": [
    "ivs = np.zeros([3, n.shape[0]])   # Initial values [[x], [y], [z]]\n",
    "ivs[0] = 4*np.random.random(n.shape[0]) - 2\n",
    "ivs[1] = 0.2*np.random.random(n.shape[0])\n",
    "ivs[2] = 0.2*np.random.random(n.shape[0])"
   ]
  },
  {
   "cell_type": "code",
   "execution_count": 12,
   "metadata": {},
   "outputs": [
    {
     "data": {
      "text/plain": [
       "<matplotlib.legend.Legend at 0x1fb32e97b70>"
      ]
     },
     "execution_count": 12,
     "metadata": {},
     "output_type": "execute_result"
    },
    {
     "data": {
      "image/png": "[encoded data removed]",
      "text/plain": [
       "<Figure size 432x288 with 1 Axes>"
      ]
     },
     "metadata": {},
     "output_type": "display_data"
    }
   ],
   "source": [
    "plt.plot(ivs[0], label=\"x\")\n",
    "plt.plot(ivs[1], label=\"y\")\n",
    "plt.plot(ivs[2], label=\"z\")\n",
    "plt.legend()"
   ]
  },
  {
   "cell_type": "code",
   "execution_count": 13,
   "metadata": {},
   "outputs": [
    {
     "data": {
      "text/plain": [
       "<matplotlib.legend.Legend at 0x1fb32ef9a20>"
      ]
     },
     "execution_count": 13,
     "metadata": {},
     "output_type": "execute_result"
    },
    {
     "data": {
      "image/png": "[encoded data removed]",
      "text/plain": [
       "<Figure size 432x288 with 1 Axes>"
      ]
     },
     "metadata": {},
     "output_type": "display_data"
    }
   ],
   "source": [
    "plt.hist(ivs[0], label=\"x\")\n",
    "plt.hist(ivs[1], label=\"y\")\n",
    "plt.hist(ivs[2], label=\"z\")\n",
    "plt.legend()"
   ]
  },
  {
   "cell_type": "code",
   "execution_count": 14,
   "metadata": {},
   "outputs": [],
   "source": [
    "params = (b, i0, x_rev, λ, θ, μ, s, x_rest, α, n1, β, n2, G1, G2)"
   ]
  },
  {
   "cell_type": "code",
   "execution_count": 15,
   "metadata": {},
   "outputs": [],
   "source": [
    "tmax = 4000\n",
    "N = 500*tmax\n",
    "t = np.linspace(0, tmax, N)"
   ]
  },
  {
   "cell_type": "code",
   "execution_count": 16,
   "metadata": {},
   "outputs": [],
   "source": [
    "def plot_end(start, end, p=0.99, legend=True, title=True):\n",
    "    for i in range(start, end):\n",
    "        plt.plot(vals[int(p*vals.shape[0]):, 0, i], label=i)\n",
    "    if legend:\n",
    "        plt.legend(loc=\"lower left\")\n",
    "    if title:\n",
    "        plt.title(f\"Last {100 - 100*p}% of neurons {start} - {end}\")"
   ]
  },
  {
   "cell_type": "code",
   "execution_count": 17,
   "metadata": {},
   "outputs": [],
   "source": [
    "def plot_beginning(start, end, p=0.01, legend=True, title=True):\n",
    "    for i in range(start, end):\n",
    "        plt.plot(vals[:int(p*vals.shape[0]), 0, i], label=i)\n",
    "    if legend:\n",
    "        plt.legend(loc=\"lower right\")\n",
    "    if title:\n",
    "        plt.title(f\"First {100*p}% of neurons {start} - {end}\")"
   ]
  },
  {
   "cell_type": "code",
   "execution_count": 18,
   "metadata": {},
   "outputs": [],
   "source": [
    "# print(dt.datetime.now())\n",
    "# vals = odeint(hr_dots, ivs.reshape(ivs.size), t, args=params)\n",
    "# print(dt.datetime.now())"
   ]
  },
  {
   "cell_type": "code",
   "execution_count": 19,
   "metadata": {},
   "outputs": [],
   "source": [
    "def helper(t_in, y_in):\n",
    "    return hr_dots(y_in, t_in, *params)"
   ]
  },
  {
   "cell_type": "code",
   "execution_count": null,
   "metadata": {},
   "outputs": [],
   "source": [
    "sol = solve_ivp(helper, (0, tmax), ivs.reshape(ivs.size), dense_output=True, method=\"Radau\", jac=jac)"
   ]
  },
  {
   "cell_type": "code",
   "execution_count": null,
   "metadata": {},
   "outputs": [],
   "source": [
    "vals = sol.sol(t).T"
   ]
  },
  {
   "cell_type": "code",
   "execution_count": null,
   "metadata": {},
   "outputs": [],
   "source": [
    "vals = vals.reshape(-1, 3, 65)"
   ]
  },
  {
   "cell_type": "code",
   "execution_count": null,
   "metadata": {},
   "outputs": [],
   "source": [
    "vals.shape"
   ]
  },
  {
   "cell_type": "code",
   "execution_count": null,
   "metadata": {},
   "outputs": [],
   "source": [
    "plt.plot(vals[-1, 0, :], \"o\")"
   ]
  },
  {
   "cell_type": "code",
   "execution_count": null,
   "metadata": {},
   "outputs": [],
   "source": [
    "pb = 0.0025\n",
    "pe = 1 - pb"
   ]
  },
  {
   "cell_type": "code",
   "execution_count": null,
   "metadata": {},
   "outputs": [],
   "source": [
    "plot_beginning(0, 65, legend=False, p=pb)"
   ]
  },
  {
   "cell_type": "code",
   "execution_count": null,
   "metadata": {},
   "outputs": [],
   "source": [
    "plot_end(0, 65, legend=False, p=pe)"
   ]
  },
  {
   "cell_type": "code",
   "execution_count": null,
   "metadata": {},
   "outputs": [],
   "source": [
    "plot_beginning(0, 18, p=pb)"
   ]
  },
  {
   "cell_type": "code",
   "execution_count": null,
   "metadata": {},
   "outputs": [],
   "source": [
    "plot_end(0, 18, p=pe)"
   ]
  },
  {
   "cell_type": "code",
   "execution_count": null,
   "metadata": {},
   "outputs": [],
   "source": [
    "plot_beginning(18, 28, p=pb)"
   ]
  },
  {
   "cell_type": "code",
   "execution_count": null,
   "metadata": {},
   "outputs": [],
   "source": [
    "plot_end(18, 28, p=pe)"
   ]
  },
  {
   "cell_type": "code",
   "execution_count": null,
   "metadata": {},
   "outputs": [],
   "source": [
    "plot_end(28, 45, p=pe)"
   ]
  },
  {
   "cell_type": "code",
   "execution_count": null,
   "metadata": {},
   "outputs": [],
   "source": [
    "plot_beginning(45, 65, p=pb)"
   ]
  },
  {
   "cell_type": "code",
   "execution_count": null,
   "metadata": {},
   "outputs": [],
   "source": [
    "plot_end(45, 65, p=pe)"
   ]
  },
  {
   "cell_type": "markdown",
   "metadata": {},
   "source": [
    "# DOCSTRING FOR hr_dots\n",
    "    \"\"\"Return the time derivative of the degrees of freedom of the Hindmarsh-Rose neural model\n",
    "    \n",
    "    Returns an array of [dx0/dt, ..., dxN/dt, dy0/dt, ..., dyN/dt, dz0/dt, ..., dzN/dt] for\n",
    "    the Hindmarsh-Rose neural model.\n",
    "    \n",
    "    The reason it accepts and returns a 1D array is that it is intended to be used with\n",
    "    scipy.integrate.odeint, which only accepts 1D arrays.\n",
    "    \n",
    "    Parameters\n",
    "    ----------\n",
    "    current_1d : np.ndarray\n",
    "        Current values of [x0, ..., xN, y0, ..., yN, z0, ..., zN]\n",
    "    t0 : int\n",
    "        Time.  Since the HR model is autonomous, it doesn't matter,\n",
    "        it's just there for scipy.integrate.odeint\n",
    "    b : float\n",
    "        Controls spiking frequency\n",
    "    i0 : np.ndarray\n",
    "        Input current.  Of the form [i00, ..., i0N]\n",
    "    x_rev : float\n",
    "        Reverse potential\n",
    "    λ : float\n",
    "        Sigmoidal function steepness\n",
    "    θ : float\n",
    "        Sigmoidal function center\n",
    "    μ : float\n",
    "        Time scale of the slow current\n",
    "    s : float\n",
    "        Governs adaptation\n",
    "    x_rest : float\n",
    "        Resting potential\n",
    "    α : float\n",
    "        Intra connection strength\n",
    "    n1 : np.ndarray\n",
    "        Number of intra connections per neuron\n",
    "    β : float\n",
    "        Inter connection strength\n",
    "    n2 : np.ndarray\n",
    "        Number of inter connections per neuron\n",
    "    adj : np.ndarray\n",
    "        Adjacency matrix for the connectome\n",
    "    cortex_mask : np.ndarray\n",
    "        Mask indicating which cortex each neuron belongs to\n",
    "        \n",
    "    Returns\n",
    "    -------\n",
    "    np.ndarray\n",
    "        Derivatives [dx0/dt, ..., dxN/dt, dy0/dt, ..., dyN/dt, dz0/dt, ..., dzN/dt]\n",
    "    \"\"\""
   ]
  }
 ],
 "metadata": {
  "kernelspec": {
   "display_name": "Python 3",
   "language": "python",
   "name": "python3"
  },
  "language_info": {
   "codemirror_mode": {
    "name": "ipython",
    "version": 3
   },
   "file_extension": ".py",
   "mimetype": "text/x-python",
   "name": "python",
   "nbconvert_exporter": "python",
   "pygments_lexer": "ipython3",
   "version": "3.6.5"
  }
 },
 "nbformat": 4,
 "nbformat_minor": 2
}
