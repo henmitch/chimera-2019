{
 "cells": [
  {
   "cell_type": "code",
   "execution_count": 1,
   "metadata": {},
   "outputs": [],
   "source": [
    "import LinearAlgebra, DelimitedFiles\n",
    "la = LinearAlgebra\n",
    "df = DelimitedFiles;"
   ]
  },
  {
   "cell_type": "code",
   "execution_count": 2,
   "metadata": {},
   "outputs": [
    {
     "data": {
      "text/plain": [
       "add_up_connections (generic function with 1 method)"
      ]
     },
     "execution_count": 2,
     "metadata": {},
     "output_type": "execute_result"
    }
   ],
   "source": [
    "function add_up_connections(A::Array{Float64, 2})\n",
    "    pre_n = sum(convert(Array{Int}, A .!= 0); dims=2) # Number of connections from a given neuron\n",
    "    pre_n[pre_n .== 0] .= 1                           # This is to remove a divide-by-zero; if n is 0, then so is A\n",
    "    return pre_n\n",
    "end"
   ]
  },
  {
   "cell_type": "code",
   "execution_count": 3,
   "metadata": {},
   "outputs": [
    {
     "data": {
      "text/plain": [
       "Θ (generic function with 1 method)"
      ]
     },
     "execution_count": 3,
     "metadata": {},
     "output_type": "execute_result"
    }
   ],
   "source": [
    "function Θ(x::Array{Float64, 1}, x_rev::Float64, λ::Float64, θ::Float64)\n",
    "    n_cortices = length(x)\n",
    "    output = Array{Float64, 2}(undef, n_cortices, n_cortices)\n",
    "    for ((k, xk), (j, xj)) in Iterators.product(enumerate(x), enumerate(x))\n",
    "        output[j, k] = (xj - x_rev)/(1 + exp(-λ*(xk - θ)))\n",
    "    end\n",
    "    return output\n",
    "end"
   ]
  },
  {
   "cell_type": "code",
   "execution_count": 4,
   "metadata": {},
   "outputs": [
    {
     "data": {
      "text/plain": [
       "dΘ_dx (generic function with 1 method)"
      ]
     },
     "execution_count": 4,
     "metadata": {},
     "output_type": "execute_result"
    }
   ],
   "source": [
    "function dΘ_dx(x::Array{Float64, 1}, λ::Float64, θ::Float64)\n",
    "    n_cortices = length(x)\n",
    "    final = ones(Float64, n_cortices, n_cortices)/(1 + exp(-λ*(x - θ)))\n",
    "    diagonal = la.diagm(0 => x*λ*exp(-λ*(x - θ))/(1 + exp(-λ*(x - θ)))^2)\n",
    "    return final + diagonal\n",
    "end"
   ]
  },
  {
   "cell_type": "code",
   "execution_count": 5,
   "metadata": {},
   "outputs": [
    {
     "data": {
      "text/plain": [
       "hr_dots (generic function with 1 method)"
      ]
     },
     "execution_count": 5,
     "metadata": {},
     "output_type": "execute_result"
    }
   ],
   "source": [
    "function hr_dots(du, u, p, t)\n",
    "    b, i0, x_rev, λ, θ, μ, s, x_rest, α, n1, β, n2, G1, G2 = p\n",
    "    x, y, z = u\n",
    "    theta = Θ(x, x_rev, λ, θ)\n",
    "    du[1] = y .- (x^3) .+ b.*(x.^2) .+ i0 .- z .- (α./n1).*sum(G1.*theta, 2) - (β./n2).*sum(G2.*theta, 2)\n",
    "    du[2] = 1 .- 5.*(x.^2) - y\n",
    "    du[3] = μ.*(s.*(x .- s_rest) .- z)\n",
    "    return du\n",
    "end"
   ]
  },
  {
   "cell_type": "code",
   "execution_count": 6,
   "metadata": {},
   "outputs": [],
   "source": [
    "const n = df.readdlm(\"../connectomes/cat_connectome\");"
   ]
  },
  {
   "cell_type": "code",
   "execution_count": 7,
   "metadata": {},
   "outputs": [],
   "source": [
    "N = size(n, 1)\n",
    "pre_cortex_mask = zeros(Float64, N, N)\n",
    "pre_cortex_mask[collect(1:17), collect(1:17)] .= 1\n",
    "pre_cortex_mask[collect(17:27), collect(17:27)] .= 2\n",
    "pre_cortex_mask[collect(27:45), collect(27:45)] .= 3\n",
    "pre_cortex_mask[collect(45:65), collect(45:65)] .= 4\n",
    "const cortex_mask = copy(pre_cortex_mask)\n",
    "pre_G1 = copy(n)\n",
    "pre_G1[cortex_mask .== 0] .= 0\n",
    "pre_G2 = copy(n)\n",
    "pre_G2[cortex_mask .!= 0] .= 0\n",
    "const G1 = copy(pre_G1)\n",
    "const G2 = copy(pre_G2);"
   ]
  },
  {
   "cell_type": "code",
   "execution_count": 8,
   "metadata": {},
   "outputs": [],
   "source": [
    "const b = 3.2                       # Controls spiking frequency\n",
    "const i0 = 4.4*ones(size(n, 2))     # Input current ---- It's an array so we can add noise later\n",
    "const x_rev = 2                     # Reverse potential\n",
    "const λ = 10                        # Sigmoidal function parameter\n",
    "const θ = -0.25                     # Sigmoidal function parameter\n",
    "const μ = 0.01                      # Time scale of slow current\n",
    "const s = 4.0                       # Governs adaptation (whatever that means)\n",
    "const x_rest = -1.6                 # Resting potential ------ INCORRECT IN SANTOS PAPER\n",
    "const α = 0.210                     # Intra connection strength ---- VARIED PARAMETER\n",
    "const n1 = add_up_connections(G1)   # Intra connections\n",
    "const β = 0.040                     # Inter connection strength ---- VARIED PARAMETER\n",
    "const n2 = add_up_connections(G2);  # Inter connections"
   ]
  },
  {
   "cell_type": "code",
   "execution_count": null,
   "metadata": {},
   "outputs": [],
   "source": []
  }
 ],
 "metadata": {
  "kernelspec": {
   "display_name": "Julia 1.0.0",
   "language": "julia",
   "name": "julia-1.0"
  },
  "language_info": {
   "file_extension": ".jl",
   "mimetype": "application/julia",
   "name": "julia",
   "version": "1.0.0"
  }
 },
 "nbformat": 4,
 "nbformat_minor": 2
}
