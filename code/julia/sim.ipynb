{
 "cells": [
  {
   "cell_type": "code",
   "execution_count": 1,
   "metadata": {},
   "outputs": [],
   "source": [
    "import DifferentialEquations, DelimitedFiles, LinearAlgebra\n",
    "de = DifferentialEquations\n",
    "df = DelimitedFiles\n",
    "la = LinearAlgebra;"
   ]
  },
  {
   "cell_type": "code",
   "execution_count": 2,
   "metadata": {},
   "outputs": [
    {
     "data": {
      "text/plain": [
       "add_up_connections (generic function with 1 method)"
      ]
     },
     "execution_count": 2,
     "metadata": {},
     "output_type": "execute_result"
    }
   ],
   "source": [
    "function add_up_connections(A::Array{Float64, 2})\n",
    "    pre_n = sum(convert(Array{Int}, A .!= 0); dims=2) # Number of connections from a given neuron\n",
    "    pre_n[pre_n .== 0] .= 1                           # This is to remove a divide-by-zero; if n is 0, then so is A\n",
    "    return pre_n\n",
    "end"
   ]
  },
  {
   "cell_type": "code",
   "execution_count": 3,
   "metadata": {},
   "outputs": [
    {
     "data": {
      "text/plain": [
       "Θ (generic function with 1 method)"
      ]
     },
     "execution_count": 3,
     "metadata": {},
     "output_type": "execute_result"
    }
   ],
   "source": [
    "function Θ(x::Array{Float64}, x_rev::Float64, λ::Float64, θ::Float64)\n",
    "    n_cortices = length(x)\n",
    "    output = Array{Float64, 2}(undef, n_cortices, n_cortices)\n",
    "    for ((k, xk), (j, xj)) in Iterators.product(enumerate(x), enumerate(x))\n",
    "        output[j, k] = (xj - x_rev)/(1 + exp(-λ*(xk - θ)))\n",
    "    end\n",
    "    return output\n",
    "end"
   ]
  },
  {
   "cell_type": "code",
   "execution_count": 4,
   "metadata": {},
   "outputs": [
    {
     "data": {
      "text/plain": [
       "dΘ_dx (generic function with 1 method)"
      ]
     },
     "execution_count": 4,
     "metadata": {},
     "output_type": "execute_result"
    }
   ],
   "source": [
    "function dΘ_dx(x::Array{Float64, 1}, λ::Float64, θ::Float64)\n",
    "    n_cortices = length(x)\n",
    "    final = ones(Float64, n_cortices, n_cortices)/(1 + exp(-λ*(x - θ)))\n",
    "    diagonal = la.diagm(0 => x*λ*exp(-λ*(x - θ))/(1 + exp(-λ*(x - θ)))^2)\n",
    "    return final + diagonal\n",
    "end"
   ]
  },
  {
   "cell_type": "code",
   "execution_count": 5,
   "metadata": {},
   "outputs": [
    {
     "data": {
      "text/plain": [
       "hr_dots (generic function with 1 method)"
      ]
     },
     "execution_count": 5,
     "metadata": {},
     "output_type": "execute_result"
    }
   ],
   "source": [
    "function hr_dots(du::Array{Float64, 2}, u::Array{Float64, 2}, p, t)\n",
    "    b, i0, x_rev, λ, θ, μ, s, x_rest, α, n1, β, n2, G1, G2 = p\n",
    "    x, y, z = u[1, :], u[2, :], u[3, :]\n",
    "    theta = Θ(x, x_rev, λ, θ)\n",
    "    du[1, :] = y - (x.^3) + b*(x.^2) + i0 - z - (α./n1).*sum(G1.*theta, dims=2) - (β./n2).*sum(G2.*theta, dims=2)\n",
    "    du[2, :] = 1 .- 5*(x.^2) - y\n",
    "    du[3, :] = μ*(s*(x .- x_rest) - z)\n",
    "    return du\n",
    "end"
   ]
  },
  {
   "cell_type": "code",
   "execution_count": 6,
   "metadata": {},
   "outputs": [],
   "source": [
    "const n = df.readdlm(\"../connectomes/cat_connectome\");"
   ]
  },
  {
   "cell_type": "code",
   "execution_count": 7,
   "metadata": {},
   "outputs": [],
   "source": [
    "const N = size(n, 1)\n",
    "pre_cortex_mask = zeros(Float64, N, N)\n",
    "pre_cortex_mask[collect(1:17), collect(1:17)] .= 1\n",
    "pre_cortex_mask[collect(17:27), collect(17:27)] .= 2\n",
    "pre_cortex_mask[collect(27:45), collect(27:45)] .= 3\n",
    "pre_cortex_mask[collect(45:65), collect(45:65)] .= 4\n",
    "const cortex_mask = copy(pre_cortex_mask)\n",
    "pre_G1 = copy(n)\n",
    "pre_G1[cortex_mask .== 0] .= 0\n",
    "pre_G2 = copy(n)\n",
    "pre_G2[cortex_mask .!= 0] .= 0\n",
    "const G1 = copy(pre_G1)\n",
    "const G2 = copy(pre_G2);"
   ]
  },
  {
   "cell_type": "code",
   "execution_count": 8,
   "metadata": {},
   "outputs": [],
   "source": [
    "const b = 3.2                       # Controls spiking frequency\n",
    "const i0 = 4.4*ones(size(n, 2))     # Input current ---- It's an array so we can add noise later\n",
    "const x_rev = 2.0                   # Reverse potential\n",
    "const λ = 10.0                      # Sigmoidal function parameter\n",
    "const θ = -0.25                     # Sigmoidal function parameter\n",
    "const μ = 0.01                      # Time scale of slow current\n",
    "const s = 4.0                       # Governs adaptation (whatever that means)\n",
    "const x_rest = -1.6                 # Resting potential ------ INCORRECT IN SANTOS PAPER\n",
    "α = 0.210                           # Intra connection strength ---- VARIED PARAMETER\n",
    "const n1 = add_up_connections(G1)   # Intra connections\n",
    "β = 0.040                           # Inter connection strength ---- VARIED PARAMETER\n",
    "const n2 = add_up_connections(G2);  # Inter connections"
   ]
  },
  {
   "cell_type": "code",
   "execution_count": 9,
   "metadata": {},
   "outputs": [],
   "source": [
    "p = (b, i0, x_rev, λ, θ, μ, s, x_rest, α, n1, β, n2, G1, G2)\n",
    "u0 = [3.5*rand(Float64, 1, N) .- 1.5; 0.2*rand(Float64, 1, N); 0.2*rand(Float64, 1, N)];\n",
    "tspan = (0.0, 4000.0);"
   ]
  },
  {
   "cell_type": "code",
   "execution_count": 10,
   "metadata": {},
   "outputs": [
    {
     "data": {
      "text/plain": [
       "\u001b[36mODEProblem\u001b[0m with uType \u001b[36mArray{Float64,2}\u001b[0m and tType \u001b[36mFloat64\u001b[0m. In-place: \u001b[36mtrue\u001b[0m\n",
       "timespan: (0.0, 4000.0)\n",
       "u0: [1.44102 -0.945258 … 0.491869 0.311321; 0.0281951 0.176508 … 0.168571 0.0851275; 0.12332 0.162566 … 0.168686 0.11392]"
      ]
     },
     "execution_count": 10,
     "metadata": {},
     "output_type": "execute_result"
    }
   ],
   "source": [
    "prob = de.ODEProblem(hr_dots, u0, tspan, p)"
   ]
  },
  {
   "cell_type": "code",
   "execution_count": 11,
   "metadata": {
    "scrolled": false
   },
   "outputs": [
    {
     "name": "stdout",
     "output_type": "stream",
     "text": [
      " 48.534274 seconds (35.49 M allocations: 17.410 GiB, 10.10% gc time)\n"
     ]
    },
    {
     "data": {
      "text/plain": [
       "retcode: Success\n",
       "Interpolation: 3rd order Hermite\n",
       "t: 22729-element Array{Float64,1}:\n",
       "    0.0                 \n",
       "    0.003179924777774225\n",
       "    0.017931446358393888\n",
       "    0.04043228618851418 \n",
       "    0.06692788820840682 \n",
       "    0.10276056400679946 \n",
       "    0.14024250757102408 \n",
       "    0.1944147326057191  \n",
       "    0.25514961079618853 \n",
       "    0.3280156068491963  \n",
       "    0.4033868388536788  \n",
       "    0.4988833240846227  \n",
       "    0.6010683820899738  \n",
       "    ⋮                   \n",
       " 3998.2171182943775     \n",
       " 3998.367205662427      \n",
       " 3998.5152729839456     \n",
       " 3998.666372539661      \n",
       " 3998.8509062763765     \n",
       " 3999.0706009291616     \n",
       " 3999.300932999877      \n",
       " 3999.4638395519914     \n",
       " 3999.6160106175553     \n",
       " 3999.7974496178167     \n",
       " 3999.9768312016427     \n",
       " 4000.0                 \n",
       "u: 22729-element Array{Array{Float64,2},1}:\n",
       " [1.44102 -0.945258 … 0.491869 0.311321; 0.0281951 0.176508 … 0.168571 0.0851275; 0.12332 0.162566 … 0.168686 0.11392]   \n",
       " [1.46695 -0.916766 … 0.509912 0.327796; -0.00227973 0.165364 … 0.167227 0.0864107; 0.123705 0.162646 … 0.168948 0.11416]\n",
       " [1.58865 -0.794149 … 0.595846 0.405561; -0.158585 0.124085 … 0.157013 0.0899127; 0.125532 0.163062 … 0.170193 0.115304] \n",
       " [1.77706 -0.630224 … 0.733818 0.528976; -0.448267 0.0872547 … 0.126483 0.0857607; 0.128458 0.163826 … 0.172193 0.117138]\n",
       " [1.99757 -0.460899 … 0.906691 0.683068; -0.877077 0.0721896 … 0.0611538 0.0614731; 0.13212 0.164902 … 0.174711 0.119443]\n",
       " [2.27731 -0.255997 … 1.15842 0.90888; -1.61882 0.0819091 … -0.0940193 -0.0174431; 0.137432 0.166624 … 0.178418 0.122832]\n",
       " [2.52284 -0.0556613 … 1.44217 1.16805; -2.58808 0.110675 … -0.365692 -0.178963; 0.143384 0.168728 … 0.182697 0.126738]  \n",
       " [2.75726 0.230221 … 1.87215 1.57979; -4.25675 0.15373 … -1.02303 -0.617381; 0.152519 0.172291 … 0.189653 0.133105]      \n",
       " [2.85163 0.569557 … 2.32002 2.05662; -6.28736 0.1539 … -2.2146 -1.506; 0.163156 0.177036 … 0.198531 0.14133]            \n",
       " [2.79563 1.03621 … 2.68468 2.52945; -8.59971 -0.0174006 … -4.232 -3.21336; 0.17596 0.183889 … 0.210397 0.152614]        \n",
       " [2.6254 1.60193 … 2.80999 2.77958; -10.582 -0.58244 … -6.63342 -5.51293; 0.188839 0.19253 … 0.223399 0.165387]          \n",
       " [2.32064 2.32377 … 2.70813 2.77566; -12.3247 -2.24275 … -9.44773 -8.49284; 0.204234 0.205991 … 0.239896 0.182033]       \n",
       " [1.91958 2.76427 … 2.43314 2.54993; -13.2254 -5.18786 … -11.6638 -11.0442; 0.219248 0.222873 … 0.256729 0.199314]       \n",
       " ⋮                                                                                                                       \n",
       " [-0.213029 -0.791445 … -0.951382 -1.00449; 0.356536 -2.54664 … -3.85745 -4.30321; 4.77777 4.40732 … 4.26261 4.40256]    \n",
       " [-0.188874 -0.781741 … -0.945469 -0.998956; 0.418027 -2.4835 … -3.80721 -4.26331; 4.77899 4.40559 … 4.26012 4.39955]    \n",
       " [-0.161071 -0.771104 … -0.939494 -0.993104; 0.477016 -2.41885 … -3.75678 -4.22157; 4.78035 4.40394 … 4.25771 4.39661]   \n",
       " [-0.12867 -0.759421 … -0.933247 -0.986809; 0.535593 -2.34995 … -3.70441 -4.1764; 4.78192 4.40234 … 4.25529 4.39366]     \n",
       " [-0.0831005 -0.744154 … -0.925405 -0.978798; 0.604278 -2.26148 … -3.63919 -4.11779; 4.78412 4.40047 … 4.25239 4.39011]  \n",
       " [-0.0185753 -0.724645 … -0.915747 -0.968923; 0.679452 -2.14978 … -3.55966 -4.04339; 4.78721 4.39841 … 4.24902 4.38597]  \n",
       " [0.0645139 -0.702808 … -0.905227 -0.958151; 0.74426 -2.02534 … -3.47404 -3.96049; 4.79112 4.39645 … 4.24559 4.38174]    \n",
       " [0.135921 -0.686516 … -0.897528 -0.950156; 0.774845 -1.93311 … -3.41204 -3.89898; 4.79438 4.39519 … 4.24323 4.37881]    \n",
       " [0.215461 -0.670506 … -0.890133 -0.942285; 0.784514 -1.84389 … -3.35303 -3.83929; 4.79789 4.39411 … 4.24107 4.37613]    \n",
       " [0.332279 -0.650227 … -0.881045 -0.932261; 0.757346 -1.73362 … -3.28124 -3.765; 4.80276 4.39296 … 4.23856 4.373]        \n",
       " [0.480488 -0.628672 … -0.871755 -0.921546; 0.660762 -1.62029 … -3.20869 -3.68782; 4.80851 4.39197 … 4.23616 4.36999]    \n",
       " [0.502659 -0.625762 … -0.870532 -0.920098; 0.640858 -1.60533 … -3.19921 -3.67755; 4.80934 4.39185 … 4.23585 4.36961]    "
      ]
     },
     "execution_count": 11,
     "metadata": {},
     "output_type": "execute_result"
    }
   ],
   "source": [
    "@time sol = de.solve(prob)"
   ]
  },
  {
   "cell_type": "code",
   "execution_count": 12,
   "metadata": {},
   "outputs": [
    {
     "data": {
      "text/plain": [
       "3×65 Array{Float64,2}:\n",
       " 0.502659  -0.625762  -0.617918  …  -0.858713  -0.870532  -0.920098\n",
       " 0.640858  -1.60533   -1.50132      -3.09317   -3.19921   -3.67755 \n",
       " 4.80934    4.39185    4.42429       4.335      4.23585    4.36961 "
      ]
     },
     "execution_count": 12,
     "metadata": {},
     "output_type": "execute_result"
    }
   ],
   "source": [
    "u_f = sol.u[end]"
   ]
  },
  {
   "cell_type": "code",
   "execution_count": 13,
   "metadata": {},
   "outputs": [
    {
     "data": {
      "text/plain": [
       "65-element Array{Float64,1}:\n",
       "  0.5026590434900133  \n",
       " -0.625762433729263   \n",
       " -0.6179179363202659  \n",
       " -0.7555613733951849  \n",
       " -0.9216684019808455  \n",
       " -1.0014953370583353  \n",
       " -0.8773668446545957  \n",
       " -0.5388591793752114  \n",
       " -0.5380389814841292  \n",
       " -0.6849909643076002  \n",
       " -0.7310921406893998  \n",
       " -0.2727765213699694  \n",
       " -0.6020860590521577  \n",
       "  ⋮                   \n",
       " -0.016351000459513355\n",
       " -0.4947246047607346  \n",
       " -0.8100140032478313  \n",
       "  1.010770889902242   \n",
       " -0.2360735926031848  \n",
       " -0.8755502257265427  \n",
       " -0.8682642324587444  \n",
       " -0.8558319154481235  \n",
       " -0.9258224623814277  \n",
       " -0.8587125710246578  \n",
       " -0.8705318577163343  \n",
       " -0.9200982766620768  "
      ]
     },
     "execution_count": 13,
     "metadata": {},
     "output_type": "execute_result"
    }
   ],
   "source": [
    "x_f = u_f[1, :]"
   ]
  },
  {
   "cell_type": "code",
   "execution_count": 14,
   "metadata": {},
   "outputs": [
    {
     "ename": "LoadError",
     "evalue": "UndefVarError: Plots not defined",
     "output_type": "error",
     "traceback": [
      "UndefVarError: Plots not defined",
      "",
      "Stacktrace:",
      " [1] top-level scope at none:0"
     ]
    }
   ],
   "source": [
    "Plots.plot(x_f)"
   ]
  },
  {
   "cell_type": "code",
   "execution_count": 15,
   "metadata": {},
   "outputs": [],
   "source": [
    "u = sol.u;"
   ]
  },
  {
   "cell_type": "code",
   "execution_count": 16,
   "metadata": {},
   "outputs": [
    {
     "ename": "LoadError",
     "evalue": "InterruptException:",
     "output_type": "error",
     "traceback": [
      "InterruptException:",
      "",
      "Stacktrace:",
      " [1] cat_shape(::Tuple{Bool,Bool,Bool}, ::Tuple{Int64,Int64,Int64}, ::Tuple{Int64,Int64}, ::Tuple{Int64,Int64}, ::Vararg{Tuple{Int64,Int64},N} where N) at ./abstractarray.jl:1320 (repeats 11944 times)",
      " [2] _cat_t(::Int64, ::Type, ::Array{Float64,2}, ::Vararg{Array{Float64,2},N} where N) at ./abstractarray.jl:1356",
      " [3] #cat_t#99(::Int64, ::Function, ::Type{Float64}, ::Array{Float64,2}, ::Vararg{Array{Float64,2},N} where N) at ./abstractarray.jl:1353",
      " [4] (::getfield(Base, Symbol(\"#kw##cat_t\")))(::NamedTuple{(:dims,),Tuple{Int64}}, ::typeof(Base.cat_t), ::Type{Float64}, ::Array{Float64,2}, ::Vararg{Array{Float64,2},N} where N) at ./none:0",
      " [5] _cat(::Int64, ::Array{Float64,2}, ::Vararg{Array{Float64,2},N} where N) at /Users/osx/buildbot/slave/package_osx64/build/usr/share/julia/stdlib/v1.0/SparseArrays/src/sparsevector.jl:1064",
      " [6] #cat#100(::Int64, ::Function, ::Array{Float64,2}, ::Vararg{Array{Float64,2},N} where N) at ./abstractarray.jl:1480",
      " [7] (::getfield(Base, Symbol(\"#kw##cat\")))(::NamedTuple{(:dims,),Tuple{Int64}}, ::typeof(cat), ::Array{Float64,2}, ::Vararg{Array{Float64,2},N} where N) at ./none:0",
      " [8] top-level scope at none:0"
     ]
    }
   ],
   "source": [
    "u = cat(u..., dims=3)"
   ]
  },
  {
   "cell_type": "code",
   "execution_count": 17,
   "metadata": {},
   "outputs": [
    {
     "ename": "LoadError",
     "evalue": "syntax: missing last argument in \"(end - 1000):\" range expression ",
     "output_type": "error",
     "traceback": [
      "syntax: missing last argument in \"(end - 1000):\" range expression ",
      ""
     ]
    }
   ],
   "source": [
    "Plots.plot(u[end-1000:, 1, 1])"
   ]
  }
 ],
 "metadata": {
  "kernelspec": {
   "display_name": "Julia 1.0.0",
   "language": "julia",
   "name": "julia-1.0"
  },
  "language_info": {
   "file_extension": ".jl",
   "mimetype": "application/julia",
   "name": "julia",
   "version": "1.0.0"
  }
 },
 "nbformat": 4,
 "nbformat_minor": 2
}
