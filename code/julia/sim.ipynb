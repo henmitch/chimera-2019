{
 "cells": [
  {
   "cell_type": "code",
   "execution_count": 1,
   "metadata": {},
   "outputs": [],
   "source": [
    "import DifferentialEquations, DelimitedFiles, LinearAlgebra\n",
    "de = DifferentialEquations\n",
    "df = DelimitedFiles\n",
    "la = LinearAlgebra;"
   ]
  },
  {
   "cell_type": "code",
   "execution_count": 2,
   "metadata": {},
   "outputs": [
    {
     "data": {
      "text/plain": [
       "add_up_connections (generic function with 1 method)"
      ]
     },
     "execution_count": 2,
     "metadata": {},
     "output_type": "execute_result"
    }
   ],
   "source": [
    "function add_up_connections(A::Array{Float64, 2})\n",
    "    pre_n = sum(convert(Array{Int}, A .!= 0); dims=2) # Number of connections from a given neuron\n",
    "    pre_n[pre_n .== 0] .= 1                           # This is to remove a divide-by-zero; if n is 0, then so is A\n",
    "    return pre_n\n",
    "end"
   ]
  },
  {
   "cell_type": "code",
   "execution_count": 3,
   "metadata": {},
   "outputs": [
    {
     "data": {
      "text/plain": [
       "Θ (generic function with 1 method)"
      ]
     },
     "execution_count": 3,
     "metadata": {},
     "output_type": "execute_result"
    }
   ],
   "source": [
    "function Θ(x::Array{Float64}, x_rev::Float64, λ::Float64, θ::Float64)\n",
    "    n_cortices = length(x)\n",
    "    output = Array{Float64, 2}(undef, n_cortices, n_cortices)\n",
    "    for ((k, xk), (j, xj)) in Iterators.product(enumerate(x), enumerate(x))\n",
    "        output[j, k] = (xj - x_rev)/(1 + exp(-λ*(xk - θ)))\n",
    "    end\n",
    "    return output\n",
    "end"
   ]
  },
  {
   "cell_type": "code",
   "execution_count": 4,
   "metadata": {},
   "outputs": [
    {
     "data": {
      "text/plain": [
       "dΘ_dx (generic function with 1 method)"
      ]
     },
     "execution_count": 4,
     "metadata": {},
     "output_type": "execute_result"
    }
   ],
   "source": [
    "function dΘ_dx(x::Array{Float64, 1}, λ::Float64, θ::Float64)\n",
    "    n_cortices = length(x)\n",
    "    final = ones(Float64, n_cortices, n_cortices)/(1 + exp(-λ*(x - θ)))\n",
    "    diagonal = la.diagm(0 => x*λ*exp(-λ*(x - θ))/(1 + exp(-λ*(x - θ)))^2)\n",
    "    return final + diagonal\n",
    "end"
   ]
  },
  {
   "cell_type": "code",
   "execution_count": 5,
   "metadata": {},
   "outputs": [
    {
     "data": {
      "text/plain": [
       "hr_dots (generic function with 1 method)"
      ]
     },
     "execution_count": 5,
     "metadata": {},
     "output_type": "execute_result"
    }
   ],
   "source": [
    "function hr_dots(du::Array{Float64, 2}, u::Array{Float64, 2}, p, t)\n",
    "    b, i0, x_rev, λ, θ, μ, s, x_rest, α, n1, β, n2, G1, G2 = p\n",
    "    x, y, z = u[1, :], u[2, :], u[3, :]\n",
    "    theta = Θ(x, x_rev, λ, θ)\n",
    "    du[1, :] = y - (x.^3) + b*(x.^2) + i0 - z - (α./n1).*sum(G1.*theta, dims=2) - (β./n2).*sum(G2.*theta, dims=2)\n",
    "    du[2, :] = 1 .- 5*(x.^2) - y\n",
    "    du[3, :] = μ*(s*(x .- x_rest) - z)\n",
    "    return du\n",
    "end"
   ]
  },
  {
   "cell_type": "code",
   "execution_count": 41,
   "metadata": {},
   "outputs": [
    {
     "data": {
      "text/plain": [
       "condition (generic function with 1 method)"
      ]
     },
     "execution_count": 41,
     "metadata": {},
     "output_type": "execute_result"
    }
   ],
   "source": [
    "function condition(u, t, integrator)\n",
    "    return u[1]\n",
    "end"
   ]
  },
  {
   "cell_type": "code",
   "execution_count": 42,
   "metadata": {},
   "outputs": [
    {
     "data": {
      "text/plain": [
       "affect! (generic function with 1 method)"
      ]
     },
     "execution_count": 42,
     "metadata": {},
     "output_type": "execute_result"
    }
   ],
   "source": [
    "function affect!(integrator)\n",
    "    println(integrator.t)\n",
    "end"
   ]
  },
  {
   "cell_type": "code",
   "execution_count": 44,
   "metadata": {},
   "outputs": [
    {
     "data": {
      "text/plain": [
       "DiffEqBase.ContinuousCallback{typeof(condition),typeof(affect!),Nothing,typeof(DiffEqBase.INITIALIZE_DEFAULT),Float64,Int64,Nothing}(condition, affect!, nothing, DiffEqBase.INITIALIZE_DEFAULT, nothing, true, 10, (true, true), 2.220446049250313e-15, 0)"
      ]
     },
     "execution_count": 44,
     "metadata": {},
     "output_type": "execute_result"
    }
   ],
   "source": [
    "cb = de.ContinuousCallback(condition, affect!, nothing)"
   ]
  },
  {
   "cell_type": "code",
   "execution_count": 6,
   "metadata": {},
   "outputs": [],
   "source": [
    "const n = df.readdlm(\"../connectomes/cat_connectome\");"
   ]
  },
  {
   "cell_type": "code",
   "execution_count": 7,
   "metadata": {},
   "outputs": [],
   "source": [
    "const N = size(n, 1)\n",
    "pre_cortex_mask = zeros(Float64, N, N)\n",
    "pre_cortex_mask[collect(1:17), collect(1:17)] .= 1\n",
    "pre_cortex_mask[collect(17:27), collect(17:27)] .= 2\n",
    "pre_cortex_mask[collect(27:45), collect(27:45)] .= 3\n",
    "pre_cortex_mask[collect(45:65), collect(45:65)] .= 4\n",
    "const cortex_mask = copy(pre_cortex_mask)\n",
    "pre_G1 = copy(n)\n",
    "pre_G1[cortex_mask .== 0] .= 0\n",
    "pre_G2 = copy(n)\n",
    "pre_G2[cortex_mask .!= 0] .= 0\n",
    "const G1 = copy(pre_G1)\n",
    "const G2 = copy(pre_G2);"
   ]
  },
  {
   "cell_type": "code",
   "execution_count": 8,
   "metadata": {},
   "outputs": [],
   "source": [
    "b = 3.2                       # Controls spiking frequency\n",
    "i0 = 4.4*ones(size(n, 2))     # Input current ---- It's an array so we can add noise later\n",
    "x_rev = 2.0                   # Reverse potential\n",
    "λ = 10.0                      # Sigmoidal function parameter\n",
    "θ = -0.25                     # Sigmoidal function parameter\n",
    "μ = 0.01                      # Time scale of slow current\n",
    "s = 4.0                       # Governs adaptation (whatever that means)\n",
    "x_rest = -1.6                 # Resting potential ------ INCORRECT IN SANTOS PAPER\n",
    "α = 0.210                     # Intra connection strength ---- VARIED PARAMETER\n",
    "n1 = add_up_connections(G1)   # Intra connections\n",
    "β = 0.040                     # Inter connection strength ---- VARIED PARAMETER\n",
    "n2 = add_up_connections(G2);  # Inter connections"
   ]
  },
  {
   "cell_type": "code",
   "execution_count": 9,
   "metadata": {},
   "outputs": [],
   "source": [
    "p = (b, i0, x_rev, λ, θ, μ, s, x_rest, α, n1, β, n2, G1, G2)\n",
    "u0 = [3.5*rand(Float64, 1, N) .- 1.5; 0.2*rand(Float64, 1, N); 0.2*rand(Float64, 1, N)];\n",
    "tspan = (0.0, 4000.0);"
   ]
  },
  {
   "cell_type": "code",
   "execution_count": 10,
   "metadata": {},
   "outputs": [
    {
     "data": {
      "text/plain": [
       "\u001b[36mODEProblem\u001b[0m with uType \u001b[36mArray{Float64,2}\u001b[0m and tType \u001b[36mFloat64\u001b[0m. In-place: \u001b[36mtrue\u001b[0m\n",
       "timespan: (0.0, 4000.0)\n",
       "u0: [0.287763 1.97286 … -1.22368 -1.16753; 0.195534 0.0678583 … 0.0602514 0.0887163; 0.0764238 0.183076 … 0.082678 0.0227479]"
      ]
     },
     "execution_count": 10,
     "metadata": {},
     "output_type": "execute_result"
    }
   ],
   "source": [
    "prob = de.ODEProblem(hr_dots, u0, tspan, p)"
   ]
  },
  {
   "cell_type": "code",
   "execution_count": 46,
   "metadata": {},
   "outputs": [
    {
     "name": "stdout",
     "output_type": "stream",
     "text": [
      " 25.348443 seconds (9.26 M allocations: 15.600 GiB, 16.35% gc time)\n"
     ]
    }
   ],
   "source": [
    "@time sol = de.solve(prob);"
   ]
  },
  {
   "cell_type": "code",
   "execution_count": 16,
   "metadata": {},
   "outputs": [],
   "source": [
    "u = sol.u;"
   ]
  }
 ],
 "metadata": {
  "kernelspec": {
   "display_name": "Julia 1.0.0",
   "language": "julia",
   "name": "julia-1.0"
  },
  "language_info": {
   "file_extension": ".jl",
   "mimetype": "application/julia",
   "name": "julia",
   "version": "1.0.0"
  }
 },
 "nbformat": 4,
 "nbformat_minor": 2
}
