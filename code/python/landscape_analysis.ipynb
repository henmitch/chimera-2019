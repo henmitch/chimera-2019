{
 "cells": [
  {
   "cell_type": "code",
   "execution_count": 1,
   "metadata": {},
   "outputs": [],
   "source": [
    "import matplotlib.pyplot as plt\n",
    "import numpy as np\n",
    "import pandas as pd\n",
    "import pickle\n",
    "\n",
    "from itertools import cycle"
   ]
  },
  {
   "cell_type": "code",
   "execution_count": 2,
   "metadata": {},
   "outputs": [
    {
     "name": "stdout",
     "output_type": "stream",
     "text": [
      "hizanidis_params.pkl\n",
      "      128867 100%  122.90MB/s    0:00:00 (xfer#1, to-check=0/1)\n",
      "\n",
      "sent 1148 bytes  received 845 bytes  3986.00 bytes/sec\n",
      "total size is 128867  speedup is 64.66\n"
     ]
    }
   ],
   "source": [
    "! rsync --progress \"bluemoon-user1.uvm.edu:thesis/data/hizanidis_params.pkl\" \"../../data/hizanidis_params.pkl\""
   ]
  },
  {
   "cell_type": "code",
   "execution_count": 3,
   "metadata": {},
   "outputs": [
    {
     "data": {
      "text/html": [
       "<div>\n",
       "<style scoped>\n",
       "    .dataframe tbody tr th:only-of-type {\n",
       "        vertical-align: middle;\n",
       "    }\n",
       "\n",
       "    .dataframe tbody tr th {\n",
       "        vertical-align: top;\n",
       "    }\n",
       "\n",
       "    .dataframe thead th {\n",
       "        text-align: right;\n",
       "    }\n",
       "</style>\n",
       "<table border=\"1\" class=\"dataframe\">\n",
       "  <thead>\n",
       "    <tr style=\"text-align: right;\">\n",
       "      <th></th>\n",
       "      <th>alpha</th>\n",
       "      <th>beta</th>\n",
       "      <th>metastability</th>\n",
       "      <th>chimera</th>\n",
       "      <th>max_phase</th>\n",
       "    </tr>\n",
       "  </thead>\n",
       "  <tbody>\n",
       "    <tr>\n",
       "      <th>0</th>\n",
       "      <td>1.053</td>\n",
       "      <td>0.656</td>\n",
       "      <td>-7235.701131</td>\n",
       "      <td>0.064566</td>\n",
       "      <td>25132.741229</td>\n",
       "    </tr>\n",
       "    <tr>\n",
       "      <th>1</th>\n",
       "      <td>2.835</td>\n",
       "      <td>0.431</td>\n",
       "      <td>-6117.816505</td>\n",
       "      <td>0.081715</td>\n",
       "      <td>25132.741229</td>\n",
       "    </tr>\n",
       "    <tr>\n",
       "      <th>2</th>\n",
       "      <td>0.770</td>\n",
       "      <td>0.513</td>\n",
       "      <td>-8698.908403</td>\n",
       "      <td>0.063440</td>\n",
       "      <td>25132.741229</td>\n",
       "    </tr>\n",
       "    <tr>\n",
       "      <th>3</th>\n",
       "      <td>1.053</td>\n",
       "      <td>0.349</td>\n",
       "      <td>-6771.758313</td>\n",
       "      <td>0.087028</td>\n",
       "      <td>25132.741229</td>\n",
       "    </tr>\n",
       "    <tr>\n",
       "      <th>4</th>\n",
       "      <td>1.013</td>\n",
       "      <td>0.082</td>\n",
       "      <td>-8811.385144</td>\n",
       "      <td>0.064524</td>\n",
       "      <td>25132.741229</td>\n",
       "    </tr>\n",
       "  </tbody>\n",
       "</table>\n",
       "</div>"
      ],
      "text/plain": [
       "   alpha   beta  metastability   chimera     max_phase\n",
       "0  1.053  0.656   -7235.701131  0.064566  25132.741229\n",
       "1  2.835  0.431   -6117.816505  0.081715  25132.741229\n",
       "2  0.770  0.513   -8698.908403  0.063440  25132.741229\n",
       "3  1.053  0.349   -6771.758313  0.087028  25132.741229\n",
       "4  1.013  0.082   -8811.385144  0.064524  25132.741229"
      ]
     },
     "execution_count": 3,
     "metadata": {},
     "output_type": "execute_result"
    }
   ],
   "source": [
    "with open(\"../../data/hizanidis_params.pkl\", \"rb\") as f:\n",
    "    params = pickle.load(f)\n",
    "\n",
    "params.head()"
   ]
  },
  {
   "cell_type": "code",
   "execution_count": 4,
   "metadata": {},
   "outputs": [],
   "source": [
    "c = params.pivot_table(values=\"chimera\", index=\"beta\", columns=\"alpha\")"
   ]
  },
  {
   "cell_type": "code",
   "execution_count": 5,
   "metadata": {
    "scrolled": true
   },
   "outputs": [
    {
     "data": {
      "image/png": "[encoded data removed]",
      "text/plain": [
       "<Figure size 576x288 with 2 Axes>"
      ]
     },
     "metadata": {},
     "output_type": "display_data"
    }
   ],
   "source": [
    "plt.matshow(c.values[:, :], origin=\"lower\")\n",
    "plt.xlabel(r\"$\\alpha$\")\n",
    "plt.ylabel(r\"$\\beta$\")\n",
    "# plt.xlim([params[\"alpha\"].min(), params[\"alpha\"].max()])\n",
    "# plt.ylim([params[\"beta\"].min(), params[\"beta\"].max()])\n",
    "plt.colorbar();"
   ]
  },
  {
   "cell_type": "code",
   "execution_count": 6,
   "metadata": {},
   "outputs": [
    {
     "data": {
      "image/png": "[encoded data removed]",
      "text/plain": [
       "<Figure size 576x288 with 2 Axes>"
      ]
     },
     "metadata": {},
     "output_type": "display_data"
    }
   ],
   "source": [
    "plt.matshow(np.heaviside(c.values - 1/14, 0), origin=\"lower\")\n",
    "plt.xlabel(r\"$\\alpha$\")\n",
    "plt.ylabel(r\"$\\beta$\")\n",
    "# plt.xlim([params[\"alpha\"].min(), params[\"alpha\"].max()])\n",
    "# plt.ylim([params[\"beta\"].min(), params[\"beta\"].max()])\n",
    "plt.colorbar();"
   ]
  },
  {
   "cell_type": "code",
   "execution_count": 7,
   "metadata": {},
   "outputs": [],
   "source": [
    "p = params.pivot_table(values=\"max_phase\", index=\"beta\", columns=\"alpha\")"
   ]
  },
  {
   "cell_type": "code",
   "execution_count": 8,
   "metadata": {},
   "outputs": [
    {
     "data": {
      "image/png": "[encoded data removed]",
      "text/plain": [
       "<Figure size 576x288 with 2 Axes>"
      ]
     },
     "metadata": {},
     "output_type": "display_data"
    }
   ],
   "source": [
    "plt.matshow(np.heaviside(p.values[:, :] - 2*np.pi, 0), origin=\"lower\")\n",
    "plt.xlabel(r\"$\\alpha$\")\n",
    "plt.ylabel(r\"$\\beta$\")\n",
    "# plt.xlim([params[\"alpha\"].min(), params[\"alpha\"].max()])\n",
    "# plt.ylim([params[\"beta\"].min(), params[\"beta\"].max()])\n",
    "plt.colorbar();"
   ]
  },
  {
   "cell_type": "code",
   "execution_count": 9,
   "metadata": {},
   "outputs": [
    {
     "data": {
      "text/plain": [
       "<matplotlib.colorbar.Colorbar at 0x111cdd2b0>"
      ]
     },
     "execution_count": 9,
     "metadata": {},
     "output_type": "execute_result"
    },
    {
     "data": {
      "image/png": "[encoded data removed]",
      "text/plain": [
       "<Figure size 576x288 with 2 Axes>"
      ]
     },
     "metadata": {},
     "output_type": "display_data"
    }
   ],
   "source": [
    "v = c.values.copy()\n",
    "v[p.values >= 2*np.pi] = 0\n",
    "plt.matshow(v, origin=\"lower\")\n",
    "plt.colorbar()"
   ]
  },
  {
   "cell_type": "code",
   "execution_count": 4,
   "metadata": {},
   "outputs": [],
   "source": [
    "good = params[params[\"max_phase\"] <= 2*np.pi]"
   ]
  }
 ],
 "metadata": {
  "kernelspec": {
   "display_name": "Python 3",
   "language": "python",
   "name": "python3"
  },
  "language_info": {
   "codemirror_mode": {
    "name": "ipython",
    "version": 3
   },
   "file_extension": ".py",
   "mimetype": "text/x-python",
   "name": "python",
   "nbconvert_exporter": "python",
   "pygments_lexer": "ipython3",
   "version": "3.7.2"
  }
 },
 "nbformat": 4,
 "nbformat_minor": 2
}
