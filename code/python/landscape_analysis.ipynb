{
 "cells": [
  {
   "cell_type": "code",
   "execution_count": 1,
   "metadata": {},
   "outputs": [],
   "source": [
    "import matplotlib.pyplot as plt\n",
    "import numpy as np\n",
    "import pandas as pd\n",
    "import pickle\n",
    "\n",
    "from itertools import cycle\n",
    "from matplotlib.patches import Rectangle"
   ]
  },
  {
   "cell_type": "code",
   "execution_count": 3,
   "metadata": {},
   "outputs": [
    {
     "name": "stdout",
     "output_type": "stream",
     "text": [
      "hizanidis_params.pkl\n",
      "      256867 100%  244.97MB/s    0:00:00 (xfer#1, to-check=0/1)\n",
      "\n",
      "sent 2240 bytes  received 1577 bytes  2544.67 bytes/sec\n",
      "total size is 256867  speedup is 67.30\n"
     ]
    }
   ],
   "source": [
    "! rsync --progress \"bluemoon-user1.uvm.edu:thesis/data/high_res/hizanidis_params.pkl\" \"../../data/high_res/hizanidis_params.pkl\"\n"
   ]
  },
  {
   "cell_type": "code",
   "execution_count": 23,
   "metadata": {},
   "outputs": [
    {
     "data": {
      "text/html": [
       "<div>\n",
       "<style scoped>\n",
       "    .dataframe tbody tr th:only-of-type {\n",
       "        vertical-align: middle;\n",
       "    }\n",
       "\n",
       "    .dataframe tbody tr th {\n",
       "        vertical-align: top;\n",
       "    }\n",
       "\n",
       "    .dataframe thead th {\n",
       "        text-align: right;\n",
       "    }\n",
       "</style>\n",
       "<table border=\"1\" class=\"dataframe\">\n",
       "  <thead>\n",
       "    <tr style=\"text-align: right;\">\n",
       "      <th></th>\n",
       "      <th>alpha</th>\n",
       "      <th>beta</th>\n",
       "      <th>metastability</th>\n",
       "      <th>chimera</th>\n",
       "      <th>max_phase</th>\n",
       "    </tr>\n",
       "  </thead>\n",
       "  <tbody>\n",
       "    <tr>\n",
       "      <th>0</th>\n",
       "      <td>0.85443</td>\n",
       "      <td>0.27342</td>\n",
       "      <td>0.047703</td>\n",
       "      <td>0.049395</td>\n",
       "      <td>25132.741229</td>\n",
       "    </tr>\n",
       "    <tr>\n",
       "      <th>1</th>\n",
       "      <td>0.34177</td>\n",
       "      <td>0.19367</td>\n",
       "      <td>0.046242</td>\n",
       "      <td>0.047188</td>\n",
       "      <td>6.283185</td>\n",
       "    </tr>\n",
       "    <tr>\n",
       "      <th>2</th>\n",
       "      <td>0.79747</td>\n",
       "      <td>0.51266</td>\n",
       "      <td>0.056583</td>\n",
       "      <td>0.059569</td>\n",
       "      <td>25132.741229</td>\n",
       "    </tr>\n",
       "    <tr>\n",
       "      <th>3</th>\n",
       "      <td>0.80886</td>\n",
       "      <td>0.37595</td>\n",
       "      <td>0.062175</td>\n",
       "      <td>0.065680</td>\n",
       "      <td>25132.741229</td>\n",
       "    </tr>\n",
       "    <tr>\n",
       "      <th>4</th>\n",
       "      <td>0.82025</td>\n",
       "      <td>0.80886</td>\n",
       "      <td>0.044187</td>\n",
       "      <td>0.045844</td>\n",
       "      <td>25132.741229</td>\n",
       "    </tr>\n",
       "  </tbody>\n",
       "</table>\n",
       "</div>"
      ],
      "text/plain": [
       "     alpha     beta  metastability   chimera     max_phase\n",
       "0  0.85443  0.27342       0.047703  0.049395  25132.741229\n",
       "1  0.34177  0.19367       0.046242  0.047188      6.283185\n",
       "2  0.79747  0.51266       0.056583  0.059569  25132.741229\n",
       "3  0.80886  0.37595       0.062175  0.065680  25132.741229\n",
       "4  0.82025  0.80886       0.044187  0.045844  25132.741229"
      ]
     },
     "execution_count": 23,
     "metadata": {},
     "output_type": "execute_result"
    }
   ],
   "source": [
    "with open(\"../../data/high_res/hizanidis_params.pkl\", \"rb\") as f:\n",
    "    params = pickle.load(f)\n",
    "\n",
    "params.head()"
   ]
  },
  {
   "cell_type": "code",
   "execution_count": 24,
   "metadata": {},
   "outputs": [
    {
     "data": {
      "text/plain": [
       "(6400, 5)"
      ]
     },
     "execution_count": 24,
     "metadata": {},
     "output_type": "execute_result"
    }
   ],
   "source": [
    "params.shape"
   ]
  },
  {
   "cell_type": "code",
   "execution_count": 25,
   "metadata": {},
   "outputs": [],
   "source": [
    "good = params[params[\"max_phase\"] <= 2*np.pi]"
   ]
  },
  {
   "cell_type": "code",
   "execution_count": 26,
   "metadata": {},
   "outputs": [
    {
     "data": {
      "text/html": [
       "<div>\n",
       "<style scoped>\n",
       "    .dataframe tbody tr th:only-of-type {\n",
       "        vertical-align: middle;\n",
       "    }\n",
       "\n",
       "    .dataframe tbody tr th {\n",
       "        vertical-align: top;\n",
       "    }\n",
       "\n",
       "    .dataframe thead th {\n",
       "        text-align: right;\n",
       "    }\n",
       "</style>\n",
       "<table border=\"1\" class=\"dataframe\">\n",
       "  <thead>\n",
       "    <tr style=\"text-align: right;\">\n",
       "      <th></th>\n",
       "      <th>alpha</th>\n",
       "      <th>beta</th>\n",
       "      <th>metastability</th>\n",
       "      <th>chimera</th>\n",
       "      <th>max_phase</th>\n",
       "    </tr>\n",
       "  </thead>\n",
       "  <tbody>\n",
       "    <tr>\n",
       "      <th>1119</th>\n",
       "      <td>0.01139</td>\n",
       "      <td>0.00000</td>\n",
       "      <td>0.082584</td>\n",
       "      <td>0.088440</td>\n",
       "      <td>6.283185</td>\n",
       "    </tr>\n",
       "    <tr>\n",
       "      <th>4763</th>\n",
       "      <td>0.04557</td>\n",
       "      <td>0.01139</td>\n",
       "      <td>0.082884</td>\n",
       "      <td>0.087844</td>\n",
       "      <td>6.283185</td>\n",
       "    </tr>\n",
       "    <tr>\n",
       "      <th>1059</th>\n",
       "      <td>0.05696</td>\n",
       "      <td>0.02278</td>\n",
       "      <td>0.081909</td>\n",
       "      <td>0.087528</td>\n",
       "      <td>6.283185</td>\n",
       "    </tr>\n",
       "    <tr>\n",
       "      <th>2444</th>\n",
       "      <td>0.03418</td>\n",
       "      <td>0.01139</td>\n",
       "      <td>0.080512</td>\n",
       "      <td>0.086116</td>\n",
       "      <td>6.283185</td>\n",
       "    </tr>\n",
       "    <tr>\n",
       "      <th>1165</th>\n",
       "      <td>0.05696</td>\n",
       "      <td>0.01139</td>\n",
       "      <td>0.080556</td>\n",
       "      <td>0.084908</td>\n",
       "      <td>6.283185</td>\n",
       "    </tr>\n",
       "    <tr>\n",
       "      <th>3386</th>\n",
       "      <td>0.02278</td>\n",
       "      <td>0.00000</td>\n",
       "      <td>0.075405</td>\n",
       "      <td>0.081128</td>\n",
       "      <td>6.283185</td>\n",
       "    </tr>\n",
       "    <tr>\n",
       "      <th>3991</th>\n",
       "      <td>0.06835</td>\n",
       "      <td>0.00000</td>\n",
       "      <td>0.075283</td>\n",
       "      <td>0.080299</td>\n",
       "      <td>6.283185</td>\n",
       "    </tr>\n",
       "    <tr>\n",
       "      <th>503</th>\n",
       "      <td>0.02278</td>\n",
       "      <td>0.01139</td>\n",
       "      <td>0.075849</td>\n",
       "      <td>0.080060</td>\n",
       "      <td>6.283185</td>\n",
       "    </tr>\n",
       "    <tr>\n",
       "      <th>1872</th>\n",
       "      <td>0.03418</td>\n",
       "      <td>0.00000</td>\n",
       "      <td>0.073000</td>\n",
       "      <td>0.077718</td>\n",
       "      <td>6.283185</td>\n",
       "    </tr>\n",
       "    <tr>\n",
       "      <th>5249</th>\n",
       "      <td>0.06835</td>\n",
       "      <td>0.01139</td>\n",
       "      <td>0.072499</td>\n",
       "      <td>0.075973</td>\n",
       "      <td>6.283185</td>\n",
       "    </tr>\n",
       "  </tbody>\n",
       "</table>\n",
       "</div>"
      ],
      "text/plain": [
       "        alpha     beta  metastability   chimera  max_phase\n",
       "1119  0.01139  0.00000       0.082584  0.088440   6.283185\n",
       "4763  0.04557  0.01139       0.082884  0.087844   6.283185\n",
       "1059  0.05696  0.02278       0.081909  0.087528   6.283185\n",
       "2444  0.03418  0.01139       0.080512  0.086116   6.283185\n",
       "1165  0.05696  0.01139       0.080556  0.084908   6.283185\n",
       "3386  0.02278  0.00000       0.075405  0.081128   6.283185\n",
       "3991  0.06835  0.00000       0.075283  0.080299   6.283185\n",
       "503   0.02278  0.01139       0.075849  0.080060   6.283185\n",
       "1872  0.03418  0.00000       0.073000  0.077718   6.283185\n",
       "5249  0.06835  0.01139       0.072499  0.075973   6.283185"
      ]
     },
     "execution_count": 26,
     "metadata": {},
     "output_type": "execute_result"
    }
   ],
   "source": [
    "good.sort_values(\"chimera\", ascending=False).head(10)"
   ]
  },
  {
   "cell_type": "code",
   "execution_count": 27,
   "metadata": {},
   "outputs": [
    {
     "data": {
      "text/plain": [
       "(4076, 5)"
      ]
     },
     "execution_count": 27,
     "metadata": {},
     "output_type": "execute_result"
    }
   ],
   "source": [
    "good.shape"
   ]
  },
  {
   "cell_type": "code",
   "execution_count": 28,
   "metadata": {},
   "outputs": [],
   "source": [
    "c = good.pivot_table(values=\"chimera\", index=\"beta\", columns=\"alpha\")"
   ]
  },
  {
   "cell_type": "code",
   "execution_count": 32,
   "metadata": {
    "scrolled": true
   },
   "outputs": [
    {
     "data": {
      "image/png": "[encoded data removed]",
      "text/plain": [
       "<Figure size 288x288 with 2 Axes>"
      ]
     },
     "metadata": {},
     "output_type": "display_data"
    }
   ],
   "source": [
    "plt.matshow(c.values[:, :]*7, origin=\"lower\", aspect=\"auto\", vmin=0, vmax=1,\n",
    "            extent=[0, 0.9, 0, 0.9])\n",
    "plt.plot([0, 0.9], [0.9, 0], \"-.\", color=\"k\", lw=0.5)\n",
    "plt.plot([])\n",
    "plt.xlabel(r\"$\\alpha$\")\n",
    "plt.ylabel(r\"$\\beta$\")\n",
    "plt.gca().add_patch(Rectangle((0, 0), 0.2, 0.1, linewidth=1, fill=False))\n",
    "plt.colorbar()\n",
    "plt.gcf().set_size_inches(4, 4)\n",
    "plt.savefig(\"../../final/figure/aphysical_chimera\", dpi=700)"
   ]
  },
  {
   "cell_type": "code",
   "execution_count": 36,
   "metadata": {},
   "outputs": [
    {
     "data": {
      "text/html": [
       "<div>\n",
       "<style scoped>\n",
       "    .dataframe tbody tr th:only-of-type {\n",
       "        vertical-align: middle;\n",
       "    }\n",
       "\n",
       "    .dataframe tbody tr th {\n",
       "        vertical-align: top;\n",
       "    }\n",
       "\n",
       "    .dataframe thead th {\n",
       "        text-align: right;\n",
       "    }\n",
       "</style>\n",
       "<table border=\"1\" class=\"dataframe\">\n",
       "  <thead>\n",
       "    <tr style=\"text-align: right;\">\n",
       "      <th></th>\n",
       "      <th>alpha</th>\n",
       "      <th>beta</th>\n",
       "      <th>metastability</th>\n",
       "      <th>chimera</th>\n",
       "      <th>max_phase</th>\n",
       "    </tr>\n",
       "  </thead>\n",
       "  <tbody>\n",
       "    <tr>\n",
       "      <th>0</th>\n",
       "      <td>0.053</td>\n",
       "      <td>0.064</td>\n",
       "      <td>0.040809</td>\n",
       "      <td>0.042223</td>\n",
       "      <td>6.283185</td>\n",
       "    </tr>\n",
       "    <tr>\n",
       "      <th>1</th>\n",
       "      <td>0.051</td>\n",
       "      <td>0.049</td>\n",
       "      <td>0.044980</td>\n",
       "      <td>0.045953</td>\n",
       "      <td>6.283185</td>\n",
       "    </tr>\n",
       "    <tr>\n",
       "      <th>2</th>\n",
       "      <td>0.091</td>\n",
       "      <td>0.085</td>\n",
       "      <td>0.039594</td>\n",
       "      <td>0.040671</td>\n",
       "      <td>6.283185</td>\n",
       "    </tr>\n",
       "    <tr>\n",
       "      <th>3</th>\n",
       "      <td>0.154</td>\n",
       "      <td>0.062</td>\n",
       "      <td>0.048233</td>\n",
       "      <td>0.050510</td>\n",
       "      <td>6.283185</td>\n",
       "    </tr>\n",
       "    <tr>\n",
       "      <th>4</th>\n",
       "      <td>0.008</td>\n",
       "      <td>0.023</td>\n",
       "      <td>0.045441</td>\n",
       "      <td>0.046159</td>\n",
       "      <td>6.283185</td>\n",
       "    </tr>\n",
       "  </tbody>\n",
       "</table>\n",
       "</div>"
      ],
      "text/plain": [
       "   alpha   beta  metastability   chimera  max_phase\n",
       "0  0.053  0.064       0.040809  0.042223   6.283185\n",
       "1  0.051  0.049       0.044980  0.045953   6.283185\n",
       "2  0.091  0.085       0.039594  0.040671   6.283185\n",
       "3  0.154  0.062       0.048233  0.050510   6.283185\n",
       "4  0.008  0.023       0.045441  0.046159   6.283185"
      ]
     },
     "execution_count": 36,
     "metadata": {},
     "output_type": "execute_result"
    }
   ],
   "source": [
    "with open(\"../../data/zoom/hizanidis_params.pkl\", \"rb\") as f:\n",
    "    params = pickle.load(f)\n",
    "\n",
    "params.head()"
   ]
  },
  {
   "cell_type": "code",
   "execution_count": 37,
   "metadata": {},
   "outputs": [],
   "source": [
    "c = params.pivot_table(values=\"chimera\", index=\"beta\", columns=\"alpha\")"
   ]
  },
  {
   "cell_type": "code",
   "execution_count": 38,
   "metadata": {},
   "outputs": [
    {
     "data": {
      "image/png": "[encoded data removed]",
      "text/plain": [
       "<Figure size 288x144 with 2 Axes>"
      ]
     },
     "metadata": {},
     "output_type": "display_data"
    }
   ],
   "source": [
    "plt.matshow(c.values[:, :]*7, origin=\"lower\", aspect=\"auto\", vmin=0, vmax=1,\n",
    "            extent=[0, 0.2, 0, 0.1])\n",
    "plt.plot([0, 0.1], [0, 0.1], \"-.\", color=\"k\", lw=0.5)\n",
    "plt.plot([])\n",
    "plt.xlabel(r\"$\\alpha$\")\n",
    "plt.ylabel(r\"$\\beta$\")\n",
    "plt.colorbar()\n",
    "plt.gcf().set_size_inches(4, 2)\n",
    "plt.savefig(\"../../final/figure/zoom_chimera\", dpi=700)"
   ]
  }
 ],
 "metadata": {
  "kernelspec": {
   "display_name": "Python 3",
   "language": "python",
   "name": "python3"
  },
  "language_info": {
   "codemirror_mode": {
    "name": "ipython",
    "version": 3
   },
   "file_extension": ".py",
   "mimetype": "text/x-python",
   "name": "python",
   "nbconvert_exporter": "python",
   "pygments_lexer": "ipython3",
   "version": "3.7.3"
  }
 },
 "nbformat": 4,
 "nbformat_minor": 2
}
