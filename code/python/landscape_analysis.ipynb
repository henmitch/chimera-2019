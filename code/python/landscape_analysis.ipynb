{
 "cells": [
  {
   "cell_type": "code",
   "execution_count": 1,
   "metadata": {},
   "outputs": [],
   "source": [
    "import matplotlib.pyplot as plt\n",
    "import numpy as np\n",
    "import pandas as pd\n",
    "import pickle\n",
    "\n",
    "from itertools import cycle"
   ]
  },
  {
   "cell_type": "code",
   "execution_count": 4,
   "metadata": {},
   "outputs": [
    {
     "name": "stdout",
     "output_type": "stream",
     "text": [
      "hizanidis_params.pkl\n",
      "      128867 100%    2.19MB/s    0:00:00 (xfer#1, to-check=0/1)\n",
      "\n",
      "sent 1148 bytes  received 128933 bytes  86720.67 bytes/sec\n",
      "total size is 128867  speedup is 0.99\n"
     ]
    }
   ],
   "source": [
    "! rsync --progress \"bluemoon-user1.uvm.edu:thesis/data/zoom/hizanidis_params.pkl\" \"../../data/zoom/hizanidis_params.pkl\""
   ]
  },
  {
   "cell_type": "code",
   "execution_count": 31,
   "metadata": {},
   "outputs": [
    {
     "data": {
      "text/html": [
       "<div>\n",
       "<style scoped>\n",
       "    .dataframe tbody tr th:only-of-type {\n",
       "        vertical-align: middle;\n",
       "    }\n",
       "\n",
       "    .dataframe tbody tr th {\n",
       "        vertical-align: top;\n",
       "    }\n",
       "\n",
       "    .dataframe thead th {\n",
       "        text-align: right;\n",
       "    }\n",
       "</style>\n",
       "<table border=\"1\" class=\"dataframe\">\n",
       "  <thead>\n",
       "    <tr style=\"text-align: right;\">\n",
       "      <th></th>\n",
       "      <th>alpha</th>\n",
       "      <th>beta</th>\n",
       "      <th>metastability</th>\n",
       "      <th>chimera</th>\n",
       "      <th>max_phase</th>\n",
       "    </tr>\n",
       "  </thead>\n",
       "  <tbody>\n",
       "    <tr>\n",
       "      <th>0</th>\n",
       "      <td>1.053</td>\n",
       "      <td>0.656</td>\n",
       "      <td>0.059600</td>\n",
       "      <td>0.062478</td>\n",
       "      <td>25132.741229</td>\n",
       "    </tr>\n",
       "    <tr>\n",
       "      <th>1</th>\n",
       "      <td>2.835</td>\n",
       "      <td>0.431</td>\n",
       "      <td>0.075429</td>\n",
       "      <td>0.080300</td>\n",
       "      <td>25132.741229</td>\n",
       "    </tr>\n",
       "    <tr>\n",
       "      <th>2</th>\n",
       "      <td>0.770</td>\n",
       "      <td>0.513</td>\n",
       "      <td>0.058560</td>\n",
       "      <td>0.061334</td>\n",
       "      <td>25132.741229</td>\n",
       "    </tr>\n",
       "    <tr>\n",
       "      <th>3</th>\n",
       "      <td>1.053</td>\n",
       "      <td>0.349</td>\n",
       "      <td>0.080334</td>\n",
       "      <td>0.085282</td>\n",
       "      <td>25132.741229</td>\n",
       "    </tr>\n",
       "    <tr>\n",
       "      <th>4</th>\n",
       "      <td>1.013</td>\n",
       "      <td>0.082</td>\n",
       "      <td>0.059560</td>\n",
       "      <td>0.062754</td>\n",
       "      <td>25132.741229</td>\n",
       "    </tr>\n",
       "  </tbody>\n",
       "</table>\n",
       "</div>"
      ],
      "text/plain": [
       "   alpha   beta  metastability   chimera     max_phase\n",
       "0  1.053  0.656       0.059600  0.062478  25132.741229\n",
       "1  2.835  0.431       0.075429  0.080300  25132.741229\n",
       "2  0.770  0.513       0.058560  0.061334  25132.741229\n",
       "3  1.053  0.349       0.080334  0.085282  25132.741229\n",
       "4  1.013  0.082       0.059560  0.062754  25132.741229"
      ]
     },
     "execution_count": 31,
     "metadata": {},
     "output_type": "execute_result"
    }
   ],
   "source": [
    "with open(\"../../data/hizanidis_params.pkl\", \"rb\") as f:\n",
    "    params = pickle.load(f)\n",
    "\n",
    "params.head()"
   ]
  },
  {
   "cell_type": "code",
   "execution_count": 32,
   "metadata": {},
   "outputs": [],
   "source": [
    "good = params[params[\"max_phase\"] <= 2*np.pi]"
   ]
  },
  {
   "cell_type": "code",
   "execution_count": 33,
   "metadata": {},
   "outputs": [
    {
     "data": {
      "text/plain": [
       "(620, 5)"
      ]
     },
     "execution_count": 33,
     "metadata": {},
     "output_type": "execute_result"
    }
   ],
   "source": [
    "good.shape"
   ]
  },
  {
   "cell_type": "code",
   "execution_count": 34,
   "metadata": {},
   "outputs": [
    {
     "data": {
      "text/plain": [
       "0.8"
      ]
     },
     "execution_count": 34,
     "metadata": {},
     "output_type": "execute_result"
    }
   ],
   "source": [
    "good[\"beta\"].max()"
   ]
  },
  {
   "cell_type": "code",
   "execution_count": 35,
   "metadata": {},
   "outputs": [
    {
     "name": "stdout",
     "output_type": "stream",
     "text": [
      "1.053-* 2.835-* 1.013-* 1.539-* 2.673-* 2.187-* 3.038-* 2.876-* 1.904-* 2.309-* 0.932-* 1.256-* 0.972-* 1.985-* 2.106-* 3.159-* 1.215-* 2.471-* 3.119-* 0.891-* 2.390-* 1.418-* 1.863-* 1.742-* 1.944-* 2.552-* 1.134-* 1.620-* 2.633-* 1.458-* 2.147-* 1.094-* 1.175-* 2.916-* 1.580-* 2.957-* 1.823-* 3.200-* 2.511-* 2.592-* 1.377-* 2.349-* 2.025-* 2.268-* 2.997-* 1.661-* 2.228-* 2.066-* 2.795-* 1.296-* 1.499-* 1.782-* 2.714-* 2.754-* 1.337-* 1.701-* 2.430-* 3.078-* "
     ]
    }
   ],
   "source": [
    "for alpha in params[params[\"alpha\"] > 0.851][\"alpha\"].unique():\n",
    "    print(f\"{alpha:0.03f}-*\", end=\" \")"
   ]
  },
  {
   "cell_type": "code",
   "execution_count": 36,
   "metadata": {},
   "outputs": [
    {
     "data": {
      "text/html": [
       "<div>\n",
       "<style scoped>\n",
       "    .dataframe tbody tr th:only-of-type {\n",
       "        vertical-align: middle;\n",
       "    }\n",
       "\n",
       "    .dataframe tbody tr th {\n",
       "        vertical-align: top;\n",
       "    }\n",
       "\n",
       "    .dataframe thead th {\n",
       "        text-align: right;\n",
       "    }\n",
       "</style>\n",
       "<table border=\"1\" class=\"dataframe\">\n",
       "  <thead>\n",
       "    <tr style=\"text-align: right;\">\n",
       "      <th></th>\n",
       "      <th>alpha</th>\n",
       "      <th>beta</th>\n",
       "      <th>metastability</th>\n",
       "      <th>chimera</th>\n",
       "      <th>max_phase</th>\n",
       "    </tr>\n",
       "  </thead>\n",
       "  <tbody>\n",
       "    <tr>\n",
       "      <th>1720</th>\n",
       "      <td>0.041</td>\n",
       "      <td>0.021</td>\n",
       "      <td>0.078319</td>\n",
       "      <td>0.083388</td>\n",
       "      <td>6.283185</td>\n",
       "    </tr>\n",
       "    <tr>\n",
       "      <th>2734</th>\n",
       "      <td>0.851</td>\n",
       "      <td>0.021</td>\n",
       "      <td>0.067366</td>\n",
       "      <td>0.069392</td>\n",
       "      <td>6.283185</td>\n",
       "    </tr>\n",
       "    <tr>\n",
       "      <th>3030</th>\n",
       "      <td>0.810</td>\n",
       "      <td>0.021</td>\n",
       "      <td>0.066662</td>\n",
       "      <td>0.068546</td>\n",
       "      <td>6.283185</td>\n",
       "    </tr>\n",
       "    <tr>\n",
       "      <th>2343</th>\n",
       "      <td>0.608</td>\n",
       "      <td>0.390</td>\n",
       "      <td>0.069052</td>\n",
       "      <td>0.068272</td>\n",
       "      <td>6.283185</td>\n",
       "    </tr>\n",
       "    <tr>\n",
       "      <th>795</th>\n",
       "      <td>0.770</td>\n",
       "      <td>0.041</td>\n",
       "      <td>0.065538</td>\n",
       "      <td>0.067631</td>\n",
       "      <td>6.283185</td>\n",
       "    </tr>\n",
       "    <tr>\n",
       "      <th>1351</th>\n",
       "      <td>0.810</td>\n",
       "      <td>0.062</td>\n",
       "      <td>0.065212</td>\n",
       "      <td>0.067396</td>\n",
       "      <td>6.283185</td>\n",
       "    </tr>\n",
       "    <tr>\n",
       "      <th>1039</th>\n",
       "      <td>0.608</td>\n",
       "      <td>0.451</td>\n",
       "      <td>0.067431</td>\n",
       "      <td>0.067030</td>\n",
       "      <td>6.283185</td>\n",
       "    </tr>\n",
       "    <tr>\n",
       "      <th>1506</th>\n",
       "      <td>0.648</td>\n",
       "      <td>0.082</td>\n",
       "      <td>0.064980</td>\n",
       "      <td>0.067024</td>\n",
       "      <td>6.283185</td>\n",
       "    </tr>\n",
       "    <tr>\n",
       "      <th>1190</th>\n",
       "      <td>0.729</td>\n",
       "      <td>0.062</td>\n",
       "      <td>0.065076</td>\n",
       "      <td>0.066942</td>\n",
       "      <td>6.283185</td>\n",
       "    </tr>\n",
       "    <tr>\n",
       "      <th>1684</th>\n",
       "      <td>0.567</td>\n",
       "      <td>0.062</td>\n",
       "      <td>0.064568</td>\n",
       "      <td>0.066814</td>\n",
       "      <td>6.283185</td>\n",
       "    </tr>\n",
       "  </tbody>\n",
       "</table>\n",
       "</div>"
      ],
      "text/plain": [
       "      alpha   beta  metastability   chimera  max_phase\n",
       "1720  0.041  0.021       0.078319  0.083388   6.283185\n",
       "2734  0.851  0.021       0.067366  0.069392   6.283185\n",
       "3030  0.810  0.021       0.066662  0.068546   6.283185\n",
       "2343  0.608  0.390       0.069052  0.068272   6.283185\n",
       "795   0.770  0.041       0.065538  0.067631   6.283185\n",
       "1351  0.810  0.062       0.065212  0.067396   6.283185\n",
       "1039  0.608  0.451       0.067431  0.067030   6.283185\n",
       "1506  0.648  0.082       0.064980  0.067024   6.283185\n",
       "1190  0.729  0.062       0.065076  0.066942   6.283185\n",
       "1684  0.567  0.062       0.064568  0.066814   6.283185"
      ]
     },
     "execution_count": 36,
     "metadata": {},
     "output_type": "execute_result"
    }
   ],
   "source": [
    "good.sort_values(\"chimera\", ascending=False).head(10)"
   ]
  },
  {
   "cell_type": "code",
   "execution_count": 37,
   "metadata": {},
   "outputs": [],
   "source": [
    "c = good.pivot_table(values=\"chimera\", index=\"beta\", columns=\"alpha\")"
   ]
  },
  {
   "cell_type": "code",
   "execution_count": 38,
   "metadata": {
    "scrolled": true
   },
   "outputs": [
    {
     "data": {
      "image/png": "[encoded data removed]",
      "text/plain": [
       "<Figure size 288x523.636 with 2 Axes>"
      ]
     },
     "metadata": {},
     "output_type": "display_data"
    }
   ],
   "source": [
    "plt.matshow(c.values[:, :]*7, origin=\"lower\", vmin=0, vmax=1)\n",
    "plt.xlabel(r\"$\\alpha$\")\n",
    "plt.ylabel(r\"$\\beta$\")\n",
    "# plt.xlim([params[\"alpha\"].min(), params[\"alpha\"].max()])\n",
    "# plt.ylim([params[\"beta\"].min(), params[\"beta\"].max()])\n",
    "plt.colorbar();"
   ]
  },
  {
   "cell_type": "code",
   "execution_count": 40,
   "metadata": {},
   "outputs": [
    {
     "data": {
      "text/plain": [
       "0.729"
      ]
     },
     "execution_count": 40,
     "metadata": {},
     "output_type": "execute_result"
    }
   ],
   "source": [
    "good[\"alpha\"].unique()[16]"
   ]
  },
  {
   "cell_type": "code",
   "execution_count": 10,
   "metadata": {},
   "outputs": [],
   "source": [
    "m = params.pivot_table(values=\"metastability\", index=\"beta\", columns=\"alpha\")"
   ]
  },
  {
   "cell_type": "code",
   "execution_count": 11,
   "metadata": {},
   "outputs": [
    {
     "data": {
      "image/png": "[encoded data removed]",
      "text/plain": [
       "<Figure size 576x288 with 2 Axes>"
      ]
     },
     "metadata": {},
     "output_type": "display_data"
    }
   ],
   "source": [
    "plt.matshow(m.values[:, :]*12, origin=\"lower\", vmin=0, vmax=1)\n",
    "plt.xlabel(r\"$\\alpha$\")\n",
    "plt.ylabel(r\"$\\beta$\")\n",
    "# plt.xlim([params[\"alpha\"].min(), params[\"alpha\"].max()])\n",
    "# plt.ylim([params[\"beta\"].min(), params[\"beta\"].max()])\n",
    "plt.colorbar();"
   ]
  }
 ],
 "metadata": {
  "kernelspec": {
   "display_name": "Python 3",
   "language": "python",
   "name": "python3"
  },
  "language_info": {
   "codemirror_mode": {
    "name": "ipython",
    "version": 3
   },
   "file_extension": ".py",
   "mimetype": "text/x-python",
   "name": "python",
   "nbconvert_exporter": "python",
   "pygments_lexer": "ipython3",
   "version": "3.7.2"
  }
 },
 "nbformat": 4,
 "nbformat_minor": 2
}
