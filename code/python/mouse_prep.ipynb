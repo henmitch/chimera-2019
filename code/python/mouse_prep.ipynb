{
 "cells": [
  {
   "cell_type": "code",
   "execution_count": 1,
   "metadata": {},
   "outputs": [],
   "source": [
    "import matplotlib.pyplot as plt\n",
    "import numpy as np\n",
    "import pandas as pd"
   ]
  },
  {
   "cell_type": "code",
   "execution_count": 15,
   "metadata": {},
   "outputs": [
    {
     "data": {
      "text/plain": [
       "(1679, 1530, 309)"
      ]
     },
     "execution_count": 15,
     "metadata": {},
     "output_type": "execute_result"
    },
    {
     "data": {
      "image/png": "[encoded data removed]",
      "text/plain": [
       "<Figure size 288x288 with 1 Axes>"
      ]
     },
     "metadata": {},
     "output_type": "display_data"
    }
   ],
   "source": [
    "cortices = [[0, 38],\n",
    "            [38, 73],\n",
    "            [73, 98],\n",
    "            [98, 119],\n",
    "            [119, 139],\n",
    "            [139, 152],\n",
    "            [152, 164],\n",
    "            [164, 175],\n",
    "            [175, 186],\n",
    "            [186, 195],\n",
    "            [195, 203],\n",
    "            [203, 210],\n",
    "            [210, 213]]\n",
    "\n",
    "data = pd.read_excel(\"../connectomes/mouse.xlsx\", sheet_name=None)\n",
    "metadata = pd.read_excel(\"../connectomes/mouse_meta.xlsx\", sheet_name=None)\n",
    "\n",
    "d = data[\"W_ipsi\"]\n",
    "p = data[\"PValue_ipsi\"]\n",
    "\n",
    "m = metadata[\"Voxel Count_295 Structures\"]\n",
    "m = m.loc[m[\"Represented in Linear Model Matrix\"] == \"Yes\"]\n",
    "\n",
    "columns = []\n",
    "for region in [\"Isocortex\",\n",
    "               \"Olfactory Areas\",\n",
    "               \"Hippocampal Formation\",\n",
    "               \"Cortical Subplate\",\n",
    "               \"Striatum\",\n",
    "               \"Pallidum\",\n",
    "               \"Thalamus\",\n",
    "               \"Hypothalamus\",\n",
    "               \"Midbrain\",\n",
    "               \"Pons\",\n",
    "               \"Medulla\",\n",
    "               \"Cerebellar Cortex\",\n",
    "               \"Cerebellar Nuclei\"]:# m[\"Major Region\"].unique():\n",
    "    [columns.append(acronym.replace(\" \", \"\"))\n",
    "     for acronym \n",
    "     in m.loc[m[\"Major Region\"] == region, \"Acronym\"].values]\n",
    "\n",
    "d.head()\n",
    "\n",
    "d = d[columns].reindex(columns)\n",
    "p = p[columns].reindex(columns)\n",
    "\n",
    "d = d.values\n",
    "p = p.values\n",
    "\n",
    "p[np.isnan(p)] = 1\n",
    "\n",
    "d[p > 0.1] = 0\n",
    "\n",
    "n = np.zeros_like(d)\n",
    "\n",
    "for i in [1e-3, 1e-1, 1]:\n",
    "    n[d >= i] += 1\n",
    "\n",
    "plt.matshow(n)\n",
    "len(n[n == 1]), len(n[n == 2]), len(n[n == 3])"
   ]
  },
  {
   "cell_type": "code",
   "execution_count": 6,
   "metadata": {},
   "outputs": [],
   "source": [
    "nprime = np.loadtxt(\"../connectomes/cat_matrix.dat\")"
   ]
  },
  {
   "cell_type": "code",
   "execution_count": 9,
   "metadata": {},
   "outputs": [
    {
     "data": {
      "text/plain": [
       "(535, 483, 122)"
      ]
     },
     "execution_count": 9,
     "metadata": {},
     "output_type": "execute_result"
    }
   ],
   "source": [
    "len(nprime[nprime == 1]), len(nprime[nprime == 2]), len(nprime[nprime == 3])"
   ]
  }
 ],
 "metadata": {
  "kernelspec": {
   "display_name": "Python 3",
   "language": "python",
   "name": "python3"
  },
  "language_info": {
   "codemirror_mode": {
    "name": "ipython",
    "version": 3
   },
   "file_extension": ".py",
   "mimetype": "text/x-python",
   "name": "python",
   "nbconvert_exporter": "python",
   "pygments_lexer": "ipython3",
   "version": "3.7.2"
  }
 },
 "nbformat": 4,
 "nbformat_minor": 2
}
