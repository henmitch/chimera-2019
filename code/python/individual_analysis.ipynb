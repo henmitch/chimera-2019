{
 "cells": [
  {
   "cell_type": "code",
   "execution_count": null,
   "metadata": {},
   "outputs": [],
   "source": [
    "import matplotlib.pyplot as plt\n",
    "import numpy as np\n",
    "import pandas as pd\n",
    "import pickle"
   ]
  },
  {
   "cell_type": "code",
   "execution_count": null,
   "metadata": {},
   "outputs": [],
   "source": [
    "! rsync --progress \"bluemoon-user1.uvm.edu:thesis/data/0.608-0.267.pkl\" \"../../data/0.608-0.267.pkl\""
   ]
  },
  {
   "cell_type": "code",
   "execution_count": null,
   "metadata": {},
   "outputs": [],
   "source": [
    "%%time\n",
    "with open(\"../../data/0.608-0.267.pkl\", \"rb\") as f:\n",
    "    (b, i0, x_rev, λ, θ, μ, s, x_rest, α, n1, β, n2, G1, G2), sol, phase, χ, m = pickle.load(f)"
   ]
  },
  {
   "cell_type": "code",
   "execution_count": null,
   "metadata": {},
   "outputs": [],
   "source": [
    "title = f\"alpha: {α:.03f}, beta: {β:.03f}, chi: {χ:.04f}, m: {m:.04f}\"\n",
    "\n",
    "size = (12, 6)"
   ]
  },
  {
   "cell_type": "code",
   "execution_count": null,
   "metadata": {},
   "outputs": [],
   "source": [
    "metadata = pd.read_excel(\"../connectomes/mouse_meta.xlsx\", sheet_name=None)\n",
    "\n",
    "mtdt = metadata[\"Voxel Count_295 Structures\"]\n",
    "del(metadata)\n",
    "mtdt = mtdt.loc[mtdt[\"Represented in Linear Model Matrix\"] == \"Yes\"]\n",
    "\n",
    "columns = []\n",
    "cortices = [[0, 0]]\n",
    "regions = mtdt[\"Major Region\"].unique()\n",
    "for region in regions:\n",
    "    i = [columns.append(acronym.replace(\" \", \"\")) for acronym in\n",
    "         mtdt.loc[mtdt[\"Major Region\"] == region, \"Acronym\"].values]\n",
    "    cortices.append([cortices[-1][-1], cortices[-1][-1] + len(i)])\n",
    "cortices.remove([0, 0])\n",
    "del(mtdt)"
   ]
  },
  {
   "cell_type": "code",
   "execution_count": null,
   "metadata": {},
   "outputs": [],
   "source": [
    "y = sol.y.T.reshape(phase.shape[1], 3, -1)\n",
    "del(sol)\n",
    "\n",
    "means = np.zeros([len(cortices), phase.shape[0]])\n",
    "sums = np.copy(means)\n",
    "\n",
    "for i, cortex in enumerate(cortices):\n",
    "    means[i] = np.mean(y[cortex[0]:cortex[1], 0, :], axis=0)\n",
    "    sums[i] = np.sum(y[cortex[0]:cortex[1], 0, :], axis=0)\n",
    "\n",
    "for i, mn in enumerate(means):\n",
    "    plt.plot(mn + 20*i, lw=0.07, color=\"k\")\n",
    "\n",
    "plt.xlim([0, means.shape[1]])\n",
    "plt.title(title)\n",
    "plt.xlabel(\"time\")\n",
    "plt.ylabel(\"mean x\")\n",
    "\n",
    "plt.yticks([20*i for i in range(len(regions))], regions)\n",
    "\n",
    "fig = plt.gcf()\n",
    "fig.set_size_inches(*size, forward=True)\n",
    "fig.savefig(f\"means-{α:.03f}-{β:.03f}.png\", dpi=700,\n",
    "            bbox_inches=\"tight\", format=\"png\")\n",
    "plt.cla()\n",
    "plt.clf()\n",
    "\n",
    "for i, sm in enumerate(sums):\n",
    "    plt.plot(sm + 100*i, lw=0.07, color=\"k\")\n",
    "\n",
    "plt.xlim([0, sums.shape[1]])\n",
    "plt.title(title)\n",
    "plt.xlabel(\"time\")\n",
    "plt.ylabel(\"sum x\")\n",
    "\n",
    "plt.yticks([100*i for i in range(len(regions))], regions)\n",
    "\n",
    "fig = plt.gcf()\n",
    "fig.set_size_inches(*size, forward=True)\n",
    "fig.savefig(f\"sums-{α:.03f}-{β:.03f}.png\", dpi=700,\n",
    "            bbox_inches=\"tight\", format=\"png\")\n",
    "plt.cla()\n",
    "plt.clf()"
   ]
  }
 ],
 "metadata": {
  "kernelspec": {
   "display_name": "Python 3",
   "language": "python",
   "name": "python3"
  },
  "language_info": {
   "codemirror_mode": {
    "name": "ipython",
    "version": 3
   },
   "file_extension": ".py",
   "mimetype": "text/x-python",
   "name": "python",
   "nbconvert_exporter": "python",
   "pygments_lexer": "ipython3",
   "version": "3.7.2"
  }
 },
 "nbformat": 4,
 "nbformat_minor": 2
}
