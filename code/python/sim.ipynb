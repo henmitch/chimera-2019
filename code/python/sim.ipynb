{
 "cells": [
  {
   "cell_type": "code",
   "execution_count": 2,
   "metadata": {},
   "outputs": [],
   "source": [
    "import argparse\n",
    "import matplotlib.pyplot as plt\n",
    "import numpy as np\n",
    "import pandas as pd\n",
    "import pickle\n",
    "\n",
    "from scipy.integrate import solve_ivp"
   ]
  },
  {
   "cell_type": "code",
   "execution_count": 3,
   "metadata": {},
   "outputs": [],
   "source": [
    "def prep_masks(n, cortices):\n",
    "    cortex_mask = np.zeros_like(n)\n",
    "    for i, cortex in enumerate(cortices):\n",
    "        cortex_mask[cortex[0]:cortex[1], cortex[0]:cortex[1]] += i + 1\n",
    "    G1 = n.copy()\n",
    "    G1[cortex_mask == 0] = 0\n",
    "    G2 = n.copy()\n",
    "    G2[cortex_mask != 0] = 0\n",
    "    events = [lambda t_in, y_in, i=i: event(t_in, y_in, i)\n",
    "              for i in range(n.shape[0])]\n",
    "    for e in events:\n",
    "        e.direction = 1.0\n",
    "\n",
    "    return G1, G2, events"
   ]
  },
  {
   "cell_type": "code",
   "execution_count": 4,
   "metadata": {},
   "outputs": [],
   "source": [
    "def Θ(x, x_rev, λ, θ):\n",
    "    xk, xj = np.meshgrid(x, x)\n",
    "    return (xj - x_rev)/(1 + np.exp(-λ*(xk - θ)))"
   ]
  },
  {
   "cell_type": "code",
   "execution_count": 5,
   "metadata": {},
   "outputs": [],
   "source": [
    "def dΘ_dx(x, λ, θ):\n",
    "    final = np.ones((x.size, x.size))/(1 + np.exp(-λ*(x - θ)))\n",
    "    np.fill_diagonal(final,\n",
    "                     final.diagonal() +\n",
    "                     x*λ*np.exp(-λ*(x - θ))/(1+np.exp(-λ*(x - θ)))**2)\n",
    "    return final"
   ]
  },
  {
   "cell_type": "code",
   "execution_count": 6,
   "metadata": {},
   "outputs": [],
   "source": [
    "def hr_dots(current, _, b, i0, x_rev, λ, θ, μ, s, x_rest,\n",
    "            α, n1, β, n2, G1, G2):\n",
    "    x, y, z = map(lambda k: k.flatten(), np.split(current, 3))\n",
    "    theta = Θ(x, x_rev, λ, θ)\n",
    "    dots = np.zeros_like(current).reshape(3, -1)\n",
    "    dots[0] = y - (x**3) + b*(x**2) + i0 - z -\\\n",
    "        (α/n1)*np.sum(G1*theta, axis=1) - (β/n2)*np.sum(G2*theta, axis=1)\n",
    "    dots[1] = 1 - 5*(x**2) - y\n",
    "    dots[2] = μ*(s*(x - x_rest) - z)\n",
    "    return np.hstack(dots)"
   ]
  },
  {
   "cell_type": "code",
   "execution_count": 7,
   "metadata": {},
   "outputs": [],
   "source": [
    "def jac(_, y_in):\n",
    "    x, y, z = map(lambda k: k.flatten(), np.split(y_in, 3))\n",
    "    dtheta_dx = dΘ_dx(x, λ, θ)\n",
    "    dẋ_dx = -3*x**2 + 2*b*x - (α/n1)*G1*dtheta_dx - (β/n2)*G2*dtheta_dx\n",
    "    dẋ_dy = np.ones_like(dẋ_dx)\n",
    "    dẋ_dz = -np.ones_like(dẋ_dy)\n",
    "\n",
    "    dẏ_dx = -10*x*np.ones_like(dẋ_dz)\n",
    "    dẏ_dy = -np.ones_like(dẏ_dx)\n",
    "    dẏ_dz = np.zeros_like(dẏ_dy)\n",
    "\n",
    "    dż_dx = μ*s*np.ones_like(dẏ_dz)\n",
    "    dż_dy = np.zeros_like(dż_dx)\n",
    "    dż_dz = -μ*np.ones_like(dż_dy)\n",
    "\n",
    "    j_x = [dẋ_dx, dẋ_dy, dẋ_dz]\n",
    "    j_y = [dẏ_dx, dẏ_dy, dẏ_dz]\n",
    "    j_z = [dż_dx, dż_dy, dż_dz]\n",
    "\n",
    "    return np.vstack([np.hstack(j_x), np.hstack(j_y), np.hstack(j_z)])"
   ]
  },
  {
   "cell_type": "code",
   "execution_count": 8,
   "metadata": {},
   "outputs": [],
   "source": [
    "def cortex_size(mask, val):\n",
    "    return int(np.sqrt(mask[mask == val].shape))"
   ]
  },
  {
   "cell_type": "code",
   "execution_count": 9,
   "metadata": {},
   "outputs": [],
   "source": [
    "def plot_final_state(\n",
    "    y,\n",
    "    cortices=None, legend=False,\n",
    "    title=None, channel=0,\n",
    "    markers=[\"ro\", \"k^\", \"gX\", \"bD\"],\n",
    "    ylim=[-1.5, 2.5]\n",
    "):\n",
    "    if cortices is None:\n",
    "        cortices = [[0, y.size]]\n",
    "    m = iter(markers[:len(cortices)])\n",
    "    for cortex in cortices:\n",
    "        plt.plot(range(*cortex), y[-1, channel, cortex[0]:cortex[1]],\n",
    "                 next(m), label=f\"{cortex[0]} - {cortex[1] - 1}\")\n",
    "    if legend:\n",
    "        plt.legend(loc=\"best\")\n",
    "    if title:\n",
    "        plt.title(title)\n",
    "    plt.ylim(ylim)"
   ]
  },
  {
   "cell_type": "code",
   "execution_count": 10,
   "metadata": {},
   "outputs": [],
   "source": [
    "def plot_beginning_and_end(y, start, end, p=0.99,\n",
    "                           legend=False, title=True, channel=0):\n",
    "    length = y.shape[0]\n",
    "    fig, [ax1, ax2] = plt.subplots(1, 2, sharey=True)\n",
    "    for i in range(start, end):\n",
    "        ax1.plot(y[:int(p*length), channel, i], label=i)\n",
    "        ax1.grid(True)\n",
    "        ax1.set_xlim([0, int(p*length)])\n",
    "        ax2.plot(y[int((1 - p)*length):, channel, i], label=i)\n",
    "        ax2.grid(True)\n",
    "        ax2.set_xlim([0, int(p*length)])\n",
    "        plt.ylim([-1.5, 2.25])\n",
    "    if legend:\n",
    "        ax1.legend(loc=\"lower left\")\n",
    "    if title:\n",
    "        plt.suptitle(f\"First and last {100*p}\\% of neurons {start} - {end}\")"
   ]
  },
  {
   "cell_type": "code",
   "execution_count": 11,
   "metadata": {},
   "outputs": [],
   "source": [
    "def plot_state_diagram(y, cortices=None, lim=[-1.5, 2.5],\n",
    "                       markers=[\"ro\", \"k^\", \"gX\", \"bD\"]):\n",
    "    if cortices is None:\n",
    "        cortices = [[0, y.size]]\n",
    "    m = iter(markers[:len(cortices)])\n",
    "    ytp1 = y[:-1]\n",
    "    yt = y[1:]\n",
    "    for cortex in cortices:\n",
    "        plt.plot(yt[cortex[0]:cortex[1]], ytp1[cortex[0]:cortex[1]], next(m))\n",
    "    plt.xlim(lim)\n",
    "    plt.ylim(lim)"
   ]
  },
  {
   "cell_type": "code",
   "execution_count": 12,
   "metadata": {},
   "outputs": [],
   "source": [
    "def event(t, y, i):\n",
    "    return y[i]"
   ]
  },
  {
   "cell_type": "code",
   "execution_count": 13,
   "metadata": {},
   "outputs": [],
   "source": [
    "def time_to_index(t, tmax, N, as_int=True):\n",
    "    out = (N*t/tmax)\n",
    "    if as_int:\n",
    "        return out.astype(int)\n",
    "    else:\n",
    "        return out"
   ]
  },
  {
   "cell_type": "code",
   "execution_count": 14,
   "metadata": {},
   "outputs": [],
   "source": [
    "def firing_time_mask(firing_timeses, tmax, N):\n",
    "    times = np.linspace(0, tmax, N)\n",
    "    k_mask = np.zeros((N, len(firing_timeses)))\n",
    "    t_mask = k_mask.copy()\n",
    "    tp1_mask = t_mask.copy() + 1\n",
    "    for i, firing_times in enumerate(firing_timeses):\n",
    "        for j, firing_time in enumerate(firing_times[:-1]):\n",
    "            k_mask[times >= firing_time, i] += 1\n",
    "            t_mask[times >= firing_time, i] = firing_time\n",
    "            tp1_mask[times >= firing_time, i] = firing_times[j + 1]\n",
    "    return k_mask.astype(int), t_mask, tp1_mask"
   ]
  },
  {
   "cell_type": "code",
   "execution_count": 15,
   "metadata": {},
   "outputs": [],
   "source": [
    "def ϕ(sol, t):\n",
    "    n_areas = len(sol.t_events)\n",
    "    T = np.vstack(n_areas*[sol.t]).T\n",
    "    k_mask, t_mask, tp1_mask = firing_time_mask(\n",
    "        sol.t_events, sol.t[-1], sol.t.size)\n",
    "    return 2*np.pi*(T - t_mask)/(tp1_mask - t_mask)"
   ]
  },
  {
   "cell_type": "code",
   "execution_count": 16,
   "metadata": {},
   "outputs": [],
   "source": [
    "def order(phases):\n",
    "    return np.abs(np.sum(np.exp(phases*1j), axis=1)/phases.shape[1])"
   ]
  },
  {
   "cell_type": "code",
   "execution_count": 17,
   "metadata": {},
   "outputs": [],
   "source": [
    "def metastability(phase, cortices, p=1, channel=0):\n",
    "    metastabilities = []\n",
    "    N = int((1-p)*phase.shape[0])\n",
    "    average = np.mean([order(phase[N:, cortex[0]:cortex[1]]) for cortex in cortices])\n",
    "    for cortex in cortices:\n",
    "        ph = phase[N:, cortex[0]:cortex[1]]\n",
    "        metastabilities.append(\n",
    "            np.sum((order(ph) - average)**2)/(int(p*phase.shape[0]) - 1))\n",
    "    return np.mean(metastabilities)"
   ]
  },
  {
   "cell_type": "code",
   "execution_count": 18,
   "metadata": {},
   "outputs": [],
   "source": [
    "def chimera(phase, cortices, p=1, channel=0):\n",
    "    N = int((1-p)*phase.shape[0])\n",
    "    M = len(cortices)\n",
    "    average = np.mean([order(phase[N:, cortex[0]:cortex[1]])\n",
    "                       for cortex in cortices], axis=0)\n",
    "    s = np.zeros(phase.shape[0] - N)\n",
    "    for cortex in cortices:\n",
    "        ph = phase[N:, cortex[0]:cortex[1]]\n",
    "        s += (order(ph) - average)**2\n",
    "    return np.mean(s/(M - 1))"
   ]
  },
  {
   "cell_type": "code",
   "execution_count": 19,
   "metadata": {},
   "outputs": [],
   "source": [
    "data = pd.read_excel(\"../connectomes/mouse.xlsx\", sheet_name=None)\n",
    "metadata = pd.read_excel(\"../connectomes/mouse_meta.xlsx\", sheet_name=None)\n",
    "\n",
    "m = metadata[\"Voxel Count_295 Structures\"]\n",
    "m = m.loc[m[\"Represented in Linear Model Matrix\"] == \"Yes\"]\n",
    "\n",
    "columns = []\n",
    "cortices = [[0, 0]]\n",
    "for region in m[\"Major Region\"].unique():\n",
    "    i = [columns.append(acronym.replace(\" \", \"\")) for acronym in\n",
    "         m.loc[m[\"Major Region\"] == region, \"Acronym\"].values]\n",
    "    cortices.append([cortices[-1][-1], cortices[-1][-1] + len(i)])\n",
    "cortices.remove([0, 0])"
   ]
  },
  {
   "cell_type": "code",
   "execution_count": 21,
   "metadata": {},
   "outputs": [],
   "source": [
    "def main():\n",
    "    parser = argparse.ArgumentParser(description=\"Simulate a brain\")\n",
    "    parser.add_argument(\"a\", metavar=\"alpha\", type=float, nargs=1,\n",
    "                        help=\"The alpha value to use (inter connection strength)\")\n",
    "    parser.add_argument(\"b\", metavar=\"beta\", type=float, nargs=1,\n",
    "                        help=\"The beta value to use (intra connection strength)\")\n",
    "    args = parser.parse_args()\n",
    "\n",
    "    # DATA PREPARATION - specific to the data in question\n",
    "    data = pd.read_excel(\"../connectomes/mouse.xlsx\", sheet_name=None)\n",
    "    metadata = pd.read_excel(\"../connectomes/mouse_meta.xlsx\", sheet_name=None)\n",
    "\n",
    "    m = metadata[\"Voxel Count_295 Structures\"]\n",
    "    m = m.loc[m[\"Represented in Linear Model Matrix\"] == \"Yes\"]\n",
    "\n",
    "    columns = []\n",
    "    cortices = [[0, 0]]\n",
    "    for region in m[\"Major Region\"].unique():\n",
    "        i = [columns.append(acronym.replace(\" \", \"\")) for acronym in\n",
    "             m.loc[m[\"Major Region\"] == region, \"Acronym\"].values]\n",
    "        cortices.append([cortices[-1][-1], cortices[-1][-1] + len(i)])\n",
    "    cortices.remove([0, 0])\n",
    "\n",
    "    data = pd.read_excel(\"../connectomes/mouse.xlsx\", sheet_name=None)\n",
    "\n",
    "    d = data[\"W_ipsi\"]\n",
    "    p = data[\"PValue_ipsi\"]\n",
    "    d = d[columns].reindex(columns)\n",
    "    p = p[columns].reindex(columns)\n",
    "\n",
    "    d = d.values\n",
    "    p = p.values\n",
    "\n",
    "    p[np.isnan(p)] = 1\n",
    "\n",
    "    d[p > 0.01] = 0\n",
    "\n",
    "    n = np.zeros_like(d)\n",
    "\n",
    "    for i in [1e-4, 1e-2, 1]:\n",
    "        n[d >= i] += 1\n",
    "\n",
    "    G1, G2, events = prep_masks(n, cortices)\n",
    "\n",
    "    # SPECIFIC PARAMETERS\n",
    "    b = 3.2                            # Controls spiking frequency\n",
    "    # Input current --- An array to add noise\n",
    "    i0 = 4.4*np.ones(n.shape[0])\n",
    "    x_rev = 2                          # Reverse potential\n",
    "    λ = 10                             # Sigmoidal function parameter\n",
    "    θ = -0.25                          # Sigmoidal function parameter\n",
    "    μ = 0.01                           # Time scale of slow current\n",
    "    # Governs adaptation (whatever that means)\n",
    "    s = 4.0\n",
    "    x_rest = -1.6                      # Resting potential --- INCORRECT IN SANTOS PAPER\n",
    "    # Intra connection strength ---- VARIED PARAMETER\n",
    "    α = args.a[0]\n",
    "    # Number of intra connections from a given neuron\n",
    "    n1 = np.count_nonzero(G1, axis=1)\n",
    "    # This is to remove a divide-by-zero; if n1 is 0, then so is G1\n",
    "    n1[n1 == 0] = 1\n",
    "    # Inter connection strength ---- VARIED PARAMETER\n",
    "    β = args.b[0]\n",
    "    # Number of inter connections from a given neuron\n",
    "    n2 = np.count_nonzero(G2, axis=1)\n",
    "    # This is to remove a divide-by-zero; if n2 is 0, then so is G2\n",
    "    n2[n2 == 0] = 1\n",
    "\n",
    "    ivs = np.zeros([3, n.shape[0]])    # Initial values [[x], [y], [z]]\n",
    "    ivs[0] = 3.0*np.random.random(n.shape[0]) - 1.0\n",
    "    ivs[1] = 0.2*np.random.random(n.shape[0])\n",
    "    ivs[2] = 0.2*np.random.random(n.shape[0])\n",
    "\n",
    "    tmax = 4000\n",
    "    N = 100*tmax\n",
    "    t = np.linspace(0, tmax, N)\n",
    "\n",
    "    params = (b, i0, x_rev, λ, θ, μ, s, x_rest, α, n1, β, n2, G1, G2)\n",
    "    print(\"Finding solution... \", end=\" \")\n",
    "    sol = solve_ivp(fun=lambda t_in, y_in: hr_dots(y_in, t_in, *params),\n",
    "                    t_span=(-1000, tmax + 1000), t_eval=t, y0=ivs.reshape(ivs.size),\n",
    "                    events=events, method=\"RK45\")\n",
    "    print(\"Found solution\")\n",
    "    y = sol.y.T.reshape(N, 3, -1)\n",
    "    print(\"Finding phase... \", end=\" \")\n",
    "    phase = ϕ(sol, t)\n",
    "    print(\"Found phase\")\n",
    "\n",
    "    print(\"Finding chimera index... \", end=\" \")\n",
    "    χ = chimera(phase, cortices, 1)\n",
    "    print(\"Found chimera index\")\n",
    "\n",
    "    print(\"Finding metastability index... \", end=\" \")\n",
    "    m = metastability(phase, cortices, 1)\n",
    "    print(\"Found metastability index\")\n",
    "\n",
    "    print(\"Writing... \", end=\" \")\n",
    "    with open(f\"../../data/{α:0.3f}-{β:0.3f}.pkl\", \"wb\") as f:\n",
    "        pickle.dump([params, sol, phase, χ, m], f)\n",
    "\n",
    "    print(\"Wrote\")"
   ]
  },
  {
   "cell_type": "code",
   "execution_count": null,
   "metadata": {},
   "outputs": [],
   "source": [
    "if __name__ == \"__main__\":\n",
    "    main()"
   ]
  }
 ],
 "metadata": {
  "kernelspec": {
   "display_name": "Python 3",
   "language": "python",
   "name": "python3"
  },
  "language_info": {
   "codemirror_mode": {
    "name": "ipython",
    "version": 3
   },
   "file_extension": ".py",
   "mimetype": "text/x-python",
   "name": "python",
   "nbconvert_exporter": "python",
   "pygments_lexer": "ipython3",
   "version": "3.7.2"
  }
 },
 "nbformat": 4,
 "nbformat_minor": 2
}
