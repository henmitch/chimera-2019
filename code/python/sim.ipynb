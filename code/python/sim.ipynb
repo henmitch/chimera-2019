{
 "cells": [
  {
   "cell_type": "code",
   "execution_count": 1,
   "metadata": {},
   "outputs": [],
   "source": [
    "%matplotlib inline\n",
    "import matplotlib.pyplot as plt\n",
    "import numpy as np\n",
    "import pandas as pd\n",
    "import pickle\n",
    "\n",
    "from scipy.integrate import solve_ivp"
   ]
  },
  {
   "cell_type": "code",
   "execution_count": 2,
   "metadata": {},
   "outputs": [],
   "source": [
    "def Θ(x, x_rev, λ, θ):\n",
    "    xk, xj = np.meshgrid(x, x)\n",
    "    return (xj - x_rev)/(1 + np.exp(-λ*(xk - θ)))"
   ]
  },
  {
   "cell_type": "code",
   "execution_count": 3,
   "metadata": {},
   "outputs": [],
   "source": [
    "def dΘ_dx(x, λ, θ):\n",
    "    final = np.ones((x.size, x.size))/(1 + np.exp(-λ*(x - θ)))\n",
    "    np.fill_diagonal(final, final.diagonal() + x*λ*np.exp(-λ*(x - θ))/(1+np.exp(-λ*(x - θ)))**2)\n",
    "    return final"
   ]
  },
  {
   "cell_type": "code",
   "execution_count": 4,
   "metadata": {
    "code_folding": [
     11,
     13,
     16,
     18,
     20,
     22,
     24,
     26,
     28,
     30,
     32,
     34,
     36,
     38,
     40,
     42,
     47
    ]
   },
   "outputs": [],
   "source": [
    "def hr_dots(current, _, b, i0, x_rev, λ, θ, μ, s, x_rest, α, n1, β, n2, G1, G2):\n",
    "    x, y, z = map(lambda k: k.flatten(), np.split(current, 3))\n",
    "    theta = Θ(x, x_rev, λ, θ)\n",
    "    dots = np.zeros_like(current).reshape(3, -1)\n",
    "    dots[0] = y - (x**3) + b*(x**2) + i0 - z - (α/n1)*np.sum(G1*theta, axis=1) - (β/n2)*np.sum(G2*theta, axis=1)\n",
    "    dots[1] = 1 - 5*(x**2) - y\n",
    "    dots[2] = μ*(s*(x - x_rest) - z)\n",
    "    return np.hstack(dots)"
   ]
  },
  {
   "cell_type": "code",
   "execution_count": 5,
   "metadata": {},
   "outputs": [],
   "source": [
    "def jac(_, y_in):\n",
    "    x, y, z = map(lambda k: k.flatten(), np.split(y_in, 3))\n",
    "    dtheta_dx = dΘ_dx(x, λ, θ)\n",
    "    dẋ_dx = -3*x**2 + 2*b*x - (α/n1)*G1*dtheta_dx - (β/n2)*G2*dtheta_dx\n",
    "    dẋ_dy = np.ones_like(dẋ_dx)\n",
    "    dẋ_dz = -np.ones_like(dẋ_dy)\n",
    "\n",
    "    dẏ_dx = -10*x*np.ones_like(dẋ_dz)\n",
    "    dẏ_dy = -np.ones_like(dẏ_dx)\n",
    "    dẏ_dz = np.zeros_like(dẏ_dy)\n",
    "\n",
    "    dż_dx = μ*s*np.ones_like(dẏ_dz)\n",
    "    dż_dy = np.zeros_like(dż_dx)\n",
    "    dż_dz = -μ*np.ones_like(dż_dy)\n",
    "\n",
    "    j_x = [dẋ_dx, dẋ_dy, dẋ_dz]\n",
    "    j_y = [dẏ_dx, dẏ_dy, dẏ_dz]\n",
    "    j_z = [dż_dx, dż_dy, dż_dz]\n",
    "\n",
    "    return np.vstack([np.hstack(j_x), np.hstack(j_y), np.hstack(j_z)])"
   ]
  },
  {
   "cell_type": "code",
   "execution_count": 6,
   "metadata": {},
   "outputs": [],
   "source": [
    "def cortex_size(mask, val):\n",
    "    return int(np.sqrt(mask[mask == val].shape))"
   ]
  },
  {
   "cell_type": "code",
   "execution_count": 7,
   "metadata": {},
   "outputs": [],
   "source": [
    "def plot_final_state(\n",
    "    y,\n",
    "    cortices=None, legend=False,\n",
    "    title=None, channel=0,\n",
    "    markers=[\"ro\", \"k^\", \"gX\", \"bD\"],\n",
    "    ylim=[-1.5, 2.5]\n",
    "):\n",
    "    if cortices is None:\n",
    "        cortices = [[0, y.size]]\n",
    "    m = iter(markers[:len(cortices)])\n",
    "    for cortex in cortices:\n",
    "        plt.plot(range(*cortex), y[-1, channel, cortex[0]:cortex[1]], next(m), label=f\"{cortex[0]} - {cortex[1] - 1}\")\n",
    "    if legend:\n",
    "        plt.legend(loc=\"best\")\n",
    "    if title:\n",
    "        plt.title(title)\n",
    "    plt.ylim(ylim)"
   ]
  },
  {
   "cell_type": "code",
   "execution_count": 8,
   "metadata": {},
   "outputs": [],
   "source": [
    "def plot_beginning_and_end(y, start, end, p=0.01, legend=False, title=True, channel=0):\n",
    "    l = y.shape[0]\n",
    "    fig, [ax1, ax2] = plt.subplots(1, 2, sharey=True)\n",
    "    for i in range(start, end):\n",
    "        ax1.plot(y[:int(p*l), channel, i], label=i)\n",
    "        ax1.grid(True)\n",
    "        ax1.set_xlim([0, int(p*l)])\n",
    "        ax2.plot(y[int((1 - p)*l):, channel, i], label=i)\n",
    "        ax2.grid(True)\n",
    "        ax2.set_xlim([0, int(p*l)])\n",
    "        plt.ylim([-1.5, 2.25])\n",
    "    if legend:\n",
    "        ax1.legend(loc=\"lower left\")\n",
    "    if title:\n",
    "        plt.suptitle(f\"First and last {100*p}\\% of neurons {start} - {end}\")"
   ]
  },
  {
   "cell_type": "code",
   "execution_count": 9,
   "metadata": {},
   "outputs": [],
   "source": [
    "def plot_state_diagram(y, cortices=None, lim=[-1.5, 2.5], markers=[\"ro\", \"k^\", \"gX\", \"bD\"]):\n",
    "    if cortices is None:\n",
    "        cortices = [[0, y.size]]\n",
    "    m = iter(markers[:len(cortices)])\n",
    "    ytp1 = y[:-1]\n",
    "    yt = y[1:]\n",
    "    for cortex in cortices:\n",
    "        plt.plot(yt[cortex[0]:cortex[1]], ytp1[cortex[0]:cortex[1]], next(m))\n",
    "    plt.xlim(lim)\n",
    "    plt.ylim(lim)"
   ]
  },
  {
   "cell_type": "code",
   "execution_count": 10,
   "metadata": {
    "scrolled": true
   },
   "outputs": [],
   "source": [
    "def event(t, y, i):\n",
    "    return y[i]\n",
    "event.direction = 1.0"
   ]
  },
  {
   "cell_type": "code",
   "execution_count": 11,
   "metadata": {},
   "outputs": [],
   "source": [
    "def time_to_index(t, tmax, N, as_int=True):\n",
    "    out = (N*t/tmax)\n",
    "    if as_int:\n",
    "        return out.astype(int)\n",
    "    else:\n",
    "        return out"
   ]
  },
  {
   "cell_type": "code",
   "execution_count": 12,
   "metadata": {},
   "outputs": [],
   "source": [
    "def firing_time_mask(firing_timeses, tmax, N):\n",
    "    times = np.linspace(0, tmax, N)\n",
    "    k_mask = np.zeros((N, len(firing_timeses)))\n",
    "    t_mask = k_mask.copy()\n",
    "    tp1_mask = t_mask.copy() + 1\n",
    "    for i, firing_times in enumerate(firing_timeses):\n",
    "        for j, firing_time in enumerate(firing_times[:-1]):\n",
    "            k_mask[times >= firing_time, i] += 1\n",
    "            t_mask[times >= firing_time, i] = firing_time\n",
    "            tp1_mask[times >= firing_time, i] = firing_times[j + 1]\n",
    "    return k_mask.astype(int), t_mask, tp1_mask"
   ]
  },
  {
   "cell_type": "code",
   "execution_count": 13,
   "metadata": {},
   "outputs": [],
   "source": [
    "def ϕ(sol, t):\n",
    "    n_areas = len(sol.t_events)\n",
    "    T = np.vstack(n_areas*[t]).T\n",
    "    t_events = [sol.t_events[i] for i in range(n_areas)]\n",
    "    k_mask, t_mask, tp1_mask = firing_time_mask(t_events, t[-1], t.size)\n",
    "    return 2*np.pi*(k_mask + (T - t_mask)/(tp1_mask - t_mask))"
   ]
  },
  {
   "cell_type": "code",
   "execution_count": 14,
   "metadata": {},
   "outputs": [],
   "source": [
    "def rp(state, ϵ=0.3):\n",
    "    ϕi, ϕj = np.meshgrid(state, state)\n",
    "    return np.heaviside(ϵ - np.abs(ϕi - ϕj), 0)"
   ]
  },
  {
   "cell_type": "code",
   "execution_count": 15,
   "metadata": {},
   "outputs": [],
   "source": [
    "def non_central_sparseness(state):\n",
    "    xx, yy = np.meshgrid(range(state.size), range(state.size))\n",
    "    return np.sum(np.abs(xx - yy)*rp(state))"
   ]
  },
  {
   "cell_type": "code",
   "execution_count": 16,
   "metadata": {},
   "outputs": [],
   "source": [
    "def σ(sol):\n",
    "    diff = [np.diff(ts) for ts in sol.t_events]\n",
    "    return np.array([np.var(d) for d in diff])"
   ]
  },
  {
   "cell_type": "code",
   "execution_count": 17,
   "metadata": {},
   "outputs": [],
   "source": [
    "run = True\n",
    "write = True"
   ]
  },
  {
   "cell_type": "code",
   "execution_count": 18,
   "metadata": {},
   "outputs": [],
   "source": [
    "cortices = [[0, 0]]"
   ]
  },
  {
   "cell_type": "code",
   "execution_count": 19,
   "metadata": {},
   "outputs": [],
   "source": [
    "metadata = pd.read_excel(\"../connectomes/mouse_meta.xlsx\", sheet_name=None)"
   ]
  },
  {
   "cell_type": "code",
   "execution_count": 20,
   "metadata": {},
   "outputs": [],
   "source": [
    "m = metadata[\"Voxel Count_295 Structures\"]\n",
    "m = m.loc[m[\"Represented in Linear Model Matrix\"] == \"Yes\"]"
   ]
  },
  {
   "cell_type": "code",
   "execution_count": 21,
   "metadata": {},
   "outputs": [],
   "source": [
    "columns = []\n",
    "for region in m[\"Major Region\"].unique():\n",
    "    i = [columns.append(acronym) for acronym in m.loc[m[\"Major Region\"] == region, \"Acronym\"].values]\n",
    "    cortices.append([cortices[-1][-1], cortices[-1][-1] + len(i)])\n",
    "cortices.remove([0, 0])"
   ]
  },
  {
   "cell_type": "code",
   "execution_count": 22,
   "metadata": {},
   "outputs": [
    {
     "data": {
      "text/plain": [
       "[[0, 12],\n",
       " [12, 23],\n",
       " [23, 61],\n",
       " [61, 70],\n",
       " [70, 81],\n",
       " [81, 102],\n",
       " [102, 122],\n",
       " [122, 130],\n",
       " [130, 143],\n",
       " [143, 168],\n",
       " [168, 175],\n",
       " [175, 210],\n",
       " [210, 213]]"
      ]
     },
     "execution_count": 22,
     "metadata": {},
     "output_type": "execute_result"
    }
   ],
   "source": [
    "cortices"
   ]
  },
  {
   "cell_type": "code",
   "execution_count": 53,
   "metadata": {},
   "outputs": [],
   "source": [
    "data = pd.read_excel(\"../connectomes/mouse.xlsx\", sheet_name=None)\n",
    "\n",
    "d = data[\"W_ipsi\"]\n",
    "p = data[\"PValue_ipsi\"]\n",
    "d.columns = columns\n",
    "p.columns = columns\n",
    "d.index = columns\n",
    "p.index = columns\n",
    "\n",
    "d = d.values\n",
    "p = p.values\n",
    "\n",
    "p[np.isnan(p)] = 1\n",
    "\n",
    "d[p > 0.01] = 0\n",
    "\n",
    "n = np.zeros_like(d)\n",
    "\n",
    "for i in [1e-4, 1e-2, 1]:\n",
    "    n[d >= i] += 1"
   ]
  },
  {
   "cell_type": "code",
   "execution_count": 54,
   "metadata": {},
   "outputs": [
    {
     "data": {
      "text/plain": [
       "<matplotlib.colorbar.Colorbar at 0x11e763668>"
      ]
     },
     "execution_count": 54,
     "metadata": {},
     "output_type": "execute_result"
    },
    {
     "data": {
      "image/png": "[encoded data removed]",
      "text/plain": [
       "<Figure size 288x288 with 2 Axes>"
      ]
     },
     "metadata": {},
     "output_type": "display_data"
    }
   ],
   "source": [
    "plt.matshow(n/3)\n",
    "plt.colorbar()"
   ]
  },
  {
   "cell_type": "code",
   "execution_count": 34,
   "metadata": {},
   "outputs": [],
   "source": [
    "cortex_mask = np.zeros_like(n)\n",
    "for i, cortex in enumerate(cortices):\n",
    "    cortex_mask[cortex[0]:cortex[1], cortex[0]:cortex[1]] += i + 1\n",
    "G1 = n.copy()\n",
    "G1[cortex_mask == 0] = 0\n",
    "G2 = n.copy()\n",
    "G2[cortex_mask != 0] = 0\n",
    "events = [lambda t_in, y_in, i=i: event(t_in, y_in, i) for i in range(n.shape[0])]\n",
    "for e in events:\n",
    "    e.direction = 1.0"
   ]
  },
  {
   "cell_type": "code",
   "execution_count": 35,
   "metadata": {},
   "outputs": [
    {
     "data": {
      "text/plain": [
       "<matplotlib.colorbar.Colorbar at 0x11e816ac8>"
      ]
     },
     "execution_count": 35,
     "metadata": {},
     "output_type": "execute_result"
    },
    {
     "data": {
      "image/png": "[encoded data removed]",
      "text/plain": [
       "<Figure size 288x288 with 2 Axes>"
      ]
     },
     "metadata": {},
     "output_type": "display_data"
    }
   ],
   "source": [
    "plt.matshow(n)\n",
    "plt.colorbar()"
   ]
  },
  {
   "cell_type": "code",
   "execution_count": 36,
   "metadata": {},
   "outputs": [
    {
     "data": {
      "text/plain": [
       "<matplotlib.colorbar.Colorbar at 0x11f0f69e8>"
      ]
     },
     "execution_count": 36,
     "metadata": {},
     "output_type": "execute_result"
    },
    {
     "data": {
      "image/png": "[encoded data removed]",
      "text/plain": [
       "<Figure size 288x288 with 2 Axes>"
      ]
     },
     "metadata": {},
     "output_type": "display_data"
    }
   ],
   "source": [
    "plt.matshow(cortex_mask)\n",
    "plt.colorbar()"
   ]
  },
  {
   "cell_type": "code",
   "execution_count": 37,
   "metadata": {},
   "outputs": [
    {
     "data": {
      "text/plain": [
       "<matplotlib.colorbar.Colorbar at 0x11ec10e48>"
      ]
     },
     "execution_count": 37,
     "metadata": {},
     "output_type": "execute_result"
    },
    {
     "data": {
      "image/png": "[encoded data removed]",
      "text/plain": [
       "<Figure size 288x288 with 2 Axes>"
      ]
     },
     "metadata": {},
     "output_type": "display_data"
    }
   ],
   "source": [
    "plt.matshow(G1)\n",
    "plt.colorbar()"
   ]
  },
  {
   "cell_type": "code",
   "execution_count": 38,
   "metadata": {},
   "outputs": [
    {
     "data": {
      "text/plain": [
       "<matplotlib.colorbar.Colorbar at 0x11edb2a58>"
      ]
     },
     "execution_count": 38,
     "metadata": {},
     "output_type": "execute_result"
    },
    {
     "data": {
      "image/png": "[encoded data removed]",
      "text/plain": [
       "<Figure size 288x288 with 2 Axes>"
      ]
     },
     "metadata": {},
     "output_type": "display_data"
    }
   ],
   "source": [
    "plt.matshow(G2)\n",
    "plt.colorbar()"
   ]
  },
  {
   "cell_type": "code",
   "execution_count": null,
   "metadata": {},
   "outputs": [],
   "source": [
    "b = 3.2                           # Controls spiking frequency\n",
    "i0 = 4.4*np.ones(n.shape[0])      # Input current ---- It's an array so we can add noise later\n",
    "x_rev = 2                         # Reverse potential\n",
    "λ = 10                            # Sigmoidal function parameter\n",
    "θ = -0.25                         # Sigmoidal function parameter\n",
    "μ = 0.01                          # Time scale of slow current\n",
    "s = 4.0                           # Governs adaptation (whatever that means)\n",
    "x_rest = -1.6                     # Resting potential ------ INCORRECT IN SANTOS PAPER\n",
    "α = 0.952                         # Intra connection strength ---- VARIED PARAMETER\n",
    "n1 = np.count_nonzero(G1, axis=1) # Number of intra connections from a given neuron\n",
    "n1[n1 == 0] = 1                   # This is to remove a divide-by-zero; if n1 is 0, then so is G1\n",
    "β = 0.400                         # Inter connection strength ---- VARIED PARAMETER\n",
    "n2 = np.count_nonzero(G2, axis=1) # Number of inter connections from a given neuron\n",
    "n2[n2 == 0] = 1                   # This is to remove a divide-by-zero; if n2 is 0, then so is G2"
   ]
  },
  {
   "cell_type": "code",
   "execution_count": null,
   "metadata": {},
   "outputs": [],
   "source": [
    "ivs = np.zeros([3, n.shape[0]])   # Initial values [[x], [y], [z]]\n",
    "ivs[0] = 3.0*np.random.random(n.shape[0]) - 1.0\n",
    "ivs[1] = 0.2*np.random.random(n.shape[0])\n",
    "ivs[2] = 0.2*np.random.random(n.shape[0])"
   ]
  },
  {
   "cell_type": "code",
   "execution_count": null,
   "metadata": {},
   "outputs": [],
   "source": [
    "plt.plot(ivs[0], label=r\"$x_{0}$\")\n",
    "plt.plot(ivs[1], label=r\"$y_{0}$\")\n",
    "plt.plot(ivs[2], label=r\"$z_{0}$\")\n",
    "plt.legend()"
   ]
  },
  {
   "cell_type": "code",
   "execution_count": null,
   "metadata": {},
   "outputs": [],
   "source": [
    "plt.hist(ivs[0], label=r\"$x_{0}$\")\n",
    "plt.hist(ivs[1], label=r\"$y_{0}$\")\n",
    "plt.hist(ivs[2], label=r\"$z_{0}$\")\n",
    "plt.legend()"
   ]
  },
  {
   "cell_type": "code",
   "execution_count": null,
   "metadata": {},
   "outputs": [],
   "source": [
    "tmax = 4000\n",
    "N = 100*tmax\n",
    "t = np.linspace(0, tmax, N)"
   ]
  },
  {
   "cell_type": "code",
   "execution_count": null,
   "metadata": {},
   "outputs": [],
   "source": [
    "params = (b, i0, x_rev, λ, θ, μ, s, x_rest, α, n1, β, n2, G1, G2)"
   ]
  },
  {
   "cell_type": "code",
   "execution_count": null,
   "metadata": {},
   "outputs": [],
   "source": [
    "%%time\n",
    "if run:\n",
    "    sol_sync = solve_ivp(fun=lambda t_in, y_in: hr_dots(y_in, t_in, *params),\n",
    "                         t_span=(0, tmax), y0=ivs.reshape(ivs.size), events=events,\n",
    "                         dense_output=True, method=\"RK45\")\n",
    "#     phase_sync = ϕ(sol_sync, t)\n",
    "#     if write:\n",
    "#         with open(\"../../data/sol_sync.pkl\", \"wb\") as f:\n",
    "#             pickle.dump(sol_sync, f)\n",
    "#         with open(\"../../data/phase_sync.pkl\", \"wb\") as f:\n",
    "#             pickle.dump(phase_sync, f)\n",
    "# else:\n",
    "#     with open(\"../../data/sol_sync.pkl\", \"rb\") as f:\n",
    "#         sol_sync = pickle.load(f)\n",
    "#     with open(\"../../data/phase_sync.pkl\", \"rb\") as f:\n",
    "#         phase_sync = pickle.load(f)"
   ]
  },
  {
   "cell_type": "code",
   "execution_count": null,
   "metadata": {},
   "outputs": [],
   "source": [
    "vals_sync = sol_sync.sol(t).T\n",
    "vals_sync = vals_sync.reshape(-1, 3, n.shape[0])\n",
    "vals_sync.shape"
   ]
  },
  {
   "cell_type": "code",
   "execution_count": null,
   "metadata": {},
   "outputs": [],
   "source": [
    "plt.imshow(vals_sync[:, 0, :], aspect=\"auto\")"
   ]
  },
  {
   "cell_type": "code",
   "execution_count": null,
   "metadata": {},
   "outputs": [],
   "source": [
    "α = 0.001\n",
    "β = 0.001"
   ]
  },
  {
   "cell_type": "code",
   "execution_count": null,
   "metadata": {},
   "outputs": [],
   "source": [
    "params = (b, i0, x_rev, λ, θ, μ, s, x_rest, α, n1, β, n2, G1, G2)"
   ]
  },
  {
   "cell_type": "code",
   "execution_count": null,
   "metadata": {},
   "outputs": [],
   "source": [
    "%%time\n",
    "if run:\n",
    "    sol_async = solve_ivp(fun=lambda t_in, y_in: hr_dots(y_in, t_in, *params),\n",
    "                          t_span=(0, tmax), y0=ivs.reshape(ivs.size), events=events,\n",
    "                          dense_output=True, method=\"RK45\")\n",
    "    phase_async = ϕ(sol_async, t)\n",
    "    if write:\n",
    "        with open(\"../../data/sol_async.pkl\", \"wb\") as f:\n",
    "            pickle.dump(sol_async, f)\n",
    "        with open(\"../../data/phase_async.pkl\", \"wb\") as f:\n",
    "            pickle.dump(phase_async, f)\n",
    "else:\n",
    "    with open(\"../../data/sol_async.pkl\", \"rb\") as f:\n",
    "        sol_async = pickle.load(f)\n",
    "    with open(\"../../data/phase_async.pkl\", \"rb\") as f:\n",
    "        phase_async = pickle.load(f)"
   ]
  },
  {
   "cell_type": "code",
   "execution_count": null,
   "metadata": {},
   "outputs": [],
   "source": [
    "vals_async = sol_async.sol(t).T\n",
    "vals_async = vals_async.reshape(-1, 3, n.shape[0])\n",
    "vals_async.shape"
   ]
  },
  {
   "cell_type": "code",
   "execution_count": null,
   "metadata": {},
   "outputs": [],
   "source": [
    "plot_final_state(y=vals_async, cortices=cortices, legend=True, title=r\"$\\alpha = {}$, $\\beta = {}$, $t = {}$\".format(α, β, tmax))"
   ]
  },
  {
   "cell_type": "code",
   "execution_count": null,
   "metadata": {},
   "outputs": [],
   "source": [
    "plot_state_diagram(vals_async[-1, 0, :], cortices=cortices)"
   ]
  },
  {
   "cell_type": "code",
   "execution_count": null,
   "metadata": {},
   "outputs": [],
   "source": [
    "plot_beginning_and_end(vals_async, 0, 65, legend=False, p=p)"
   ]
  },
  {
   "cell_type": "code",
   "execution_count": null,
   "metadata": {},
   "outputs": [],
   "source": [
    "plot_beginning_and_end(vals_async, 0, 18, p=p)"
   ]
  },
  {
   "cell_type": "code",
   "execution_count": null,
   "metadata": {},
   "outputs": [],
   "source": [
    "plot_beginning_and_end(vals_async, 18, 28, p=p)"
   ]
  },
  {
   "cell_type": "code",
   "execution_count": null,
   "metadata": {},
   "outputs": [],
   "source": [
    "plot_beginning_and_end(vals_async, 28, 46, p=p)"
   ]
  },
  {
   "cell_type": "code",
   "execution_count": null,
   "metadata": {},
   "outputs": [],
   "source": [
    "plot_beginning_and_end(vals_async, 46, 65, p=p)"
   ]
  },
  {
   "cell_type": "code",
   "execution_count": null,
   "metadata": {},
   "outputs": [],
   "source": [
    "α = 0.7\n",
    "β = 0.08"
   ]
  },
  {
   "cell_type": "code",
   "execution_count": null,
   "metadata": {},
   "outputs": [],
   "source": [
    "params = (b, i0, x_rev, λ, θ, μ, s, x_rest, α, n1, β, n2, G1, G2)"
   ]
  },
  {
   "cell_type": "code",
   "execution_count": null,
   "metadata": {},
   "outputs": [],
   "source": [
    "%%time\n",
    "if run:\n",
    "    sol_sc = solve_ivp(fun=lambda t_in, y_in: hr_dots(y_in, t_in, *params),\n",
    "                       t_span=(0, tmax), y0=ivs.reshape(ivs.size), events=events,\n",
    "                       dense_output=True, method=\"RK45\")\n",
    "    phase_sc = ϕ(sol_sc, t)\n",
    "    if write:\n",
    "        with open(\"../../data/sol_sc.pkl\", \"wb\") as f:\n",
    "            pickle.dump(sol_sc, f)\n",
    "        with open(\"../../data/phase_sc.pkl\", \"wb\") as f:\n",
    "            pickle.dump(phase_sc, f)\n",
    "else:\n",
    "    with open(\"../../data/sol_sc.pkl\", \"rb\") as f:\n",
    "        sol_sc = pickle.load(f)\n",
    "    with open(\"../../data/phase_sc.pkl\", \"rb\") as f:\n",
    "        phase_sc = pickle.load(f)"
   ]
  },
  {
   "cell_type": "code",
   "execution_count": null,
   "metadata": {},
   "outputs": [],
   "source": [
    "vals_sc = sol_sc.sol(t).T\n",
    "vals_sc = vals_sc.reshape(-1, 3, n.shape[0])\n",
    "vals_sc.shape"
   ]
  },
  {
   "cell_type": "code",
   "execution_count": null,
   "metadata": {},
   "outputs": [],
   "source": [
    "plot_final_state(y=vals_sc, cortices=cortices, legend=True, title=r\"$\\alpha = {}$, $\\beta = {}$, $t = {}$\".format(α, β, tmax))"
   ]
  },
  {
   "cell_type": "code",
   "execution_count": null,
   "metadata": {},
   "outputs": [],
   "source": [
    "plot_state_diagram(vals_sc[-1, 0, :], cortices=cortices)"
   ]
  },
  {
   "cell_type": "code",
   "execution_count": null,
   "metadata": {},
   "outputs": [],
   "source": [
    "plot_beginning_and_end(vals_sc, 0, 65, legend=False, p=p)"
   ]
  },
  {
   "cell_type": "code",
   "execution_count": null,
   "metadata": {},
   "outputs": [],
   "source": [
    "plot_beginning_and_end(vals_sc, 0, 18, p=p)"
   ]
  },
  {
   "cell_type": "code",
   "execution_count": null,
   "metadata": {},
   "outputs": [],
   "source": [
    "vals_sc.shape"
   ]
  },
  {
   "cell_type": "code",
   "execution_count": null,
   "metadata": {},
   "outputs": [],
   "source": [
    "plot_beginning_and_end(vals_sc, 18, 28, p=p)"
   ]
  },
  {
   "cell_type": "code",
   "execution_count": null,
   "metadata": {},
   "outputs": [],
   "source": [
    "plot_beginning_and_end(vals_sc, 28, 46, p=p)"
   ]
  },
  {
   "cell_type": "code",
   "execution_count": null,
   "metadata": {},
   "outputs": [],
   "source": [
    "plot_beginning_and_end(vals_sc, 46, 65, p=p)"
   ]
  },
  {
   "cell_type": "code",
   "execution_count": null,
   "metadata": {},
   "outputs": [],
   "source": [
    "α = 1.5\n",
    "β = 0.1"
   ]
  },
  {
   "cell_type": "code",
   "execution_count": null,
   "metadata": {},
   "outputs": [],
   "source": [
    "params = (b, i0, x_rev, λ, θ, μ, s, x_rest, α, n1, β, n2, G1, G2)"
   ]
  },
  {
   "cell_type": "code",
   "execution_count": null,
   "metadata": {},
   "outputs": [],
   "source": [
    "%%time\n",
    "if run:\n",
    "    sol_bc = solve_ivp(fun=lambda t_in, y_in: hr_dots(y_in, t_in, *params),\n",
    "                       t_span=(0, tmax), y0=ivs.reshape(ivs.size), events=events,\n",
    "                       dense_output=True, method=\"RK45\")\n",
    "    phase_bc = ϕ(sol_bc, t)\n",
    "    if write:\n",
    "        with open(\"../../data/sol_bc.pkl\", \"wb\") as f:\n",
    "            pickle.dump(sol_bc, f)\n",
    "        with open(\"../../data/phase_bc.pkl\", \"wb\") as f:\n",
    "            pickle.dump(phase_bc, f)\n",
    "else:\n",
    "    with open(\"../../data/sol_bc.pkl\", \"rb\") as f:\n",
    "        sol_bc = pickle.load(f)\n",
    "    with open(\"../../data/phase_bc.pkl\", \"rb\") as f:\n",
    "        phase_bc = pickle.load(f)"
   ]
  },
  {
   "cell_type": "code",
   "execution_count": null,
   "metadata": {},
   "outputs": [],
   "source": [
    "vals_bc = sol_bc.sol(t).T\n",
    "vals_bc = vals_bc.reshape(-1, 3, n.shape[0])\n",
    "vals_bc.shape"
   ]
  },
  {
   "cell_type": "code",
   "execution_count": null,
   "metadata": {},
   "outputs": [],
   "source": [
    "plot_final_state(y=vals_bc, cortices=cortices, legend=True, title=r\"$\\alpha = {}$, $\\beta = {}$, $t = {}$\".format(α, β, tmax))"
   ]
  },
  {
   "cell_type": "code",
   "execution_count": null,
   "metadata": {},
   "outputs": [],
   "source": [
    "plot_state_diagram(vals_bc[-1, 0, :], cortices=cortices)"
   ]
  },
  {
   "cell_type": "code",
   "execution_count": null,
   "metadata": {},
   "outputs": [],
   "source": [
    "plot_beginning_and_end(vals_bc, 0, 65, legend=False, p=p)"
   ]
  },
  {
   "cell_type": "code",
   "execution_count": null,
   "metadata": {},
   "outputs": [],
   "source": [
    "plot_beginning_and_end(vals_bc, 0, 18, p=p)"
   ]
  },
  {
   "cell_type": "code",
   "execution_count": null,
   "metadata": {},
   "outputs": [],
   "source": [
    "plot_beginning_and_end(vals_bc, 18, 28, p=p)"
   ]
  },
  {
   "cell_type": "code",
   "execution_count": null,
   "metadata": {},
   "outputs": [],
   "source": [
    "plot_beginning_and_end(vals_bc, 28, 46, p=p)"
   ]
  },
  {
   "cell_type": "code",
   "execution_count": null,
   "metadata": {},
   "outputs": [],
   "source": [
    "plot_beginning_and_end(vals_bc, 46, 65, p=p)"
   ]
  },
  {
   "cell_type": "code",
   "execution_count": null,
   "metadata": {},
   "outputs": [],
   "source": [
    "for phase in [phase_sync[-1], phase_async[-1], phase_sc[-1], phase_bc[-1]]:\n",
    "    print(np.sum(rp(phase))/phase.size, non_central_sparseness(phase))"
   ]
  },
  {
   "cell_type": "code",
   "execution_count": null,
   "metadata": {},
   "outputs": [],
   "source": [
    "plt.matshow(rp(phase_sync[-1]))"
   ]
  },
  {
   "cell_type": "code",
   "execution_count": null,
   "metadata": {},
   "outputs": [],
   "source": [
    "plt.matshow(rp(phase_async[-1]))"
   ]
  },
  {
   "cell_type": "code",
   "execution_count": null,
   "metadata": {},
   "outputs": [],
   "source": [
    "plt.matshow(rp(phase_sc[-1]))"
   ]
  },
  {
   "cell_type": "code",
   "execution_count": null,
   "metadata": {},
   "outputs": [],
   "source": [
    "plt.matshow(rp(phase_bc[-1]))"
   ]
  },
  {
   "cell_type": "code",
   "execution_count": null,
   "metadata": {},
   "outputs": [],
   "source": [
    "plt.plot(σ(sol_sc))"
   ]
  },
  {
   "cell_type": "code",
   "execution_count": null,
   "metadata": {},
   "outputs": [],
   "source": [
    "plt.plot(σ(sol_bc))"
   ]
  },
  {
   "cell_type": "code",
   "execution_count": null,
   "metadata": {},
   "outputs": [],
   "source": [
    "plt.plot(σ(sol_sync))"
   ]
  },
  {
   "cell_type": "code",
   "execution_count": null,
   "metadata": {},
   "outputs": [],
   "source": [
    "plt.plot(σ(sol_async))"
   ]
  },
  {
   "cell_type": "code",
   "execution_count": null,
   "metadata": {},
   "outputs": [],
   "source": [
    "def order(phases):\n",
    "    return np.abs(np.sum(np.exp(phases*1j), axis=1)/phases.shape[1])\n",
    "\n",
    "def metastability(phase, cortices, p, channel=0):\n",
    "    metastabilities = []\n",
    "    N = int((1-p)*phase.shape[0])\n",
    "    for cortex in cortices:\n",
    "        ph = phase[N:, cortex[0]:cortex[1]]\n",
    "        metastabilities.append(np.sum((order(ph) - np.mean(order(ph)))**2)/(N - 1))\n",
    "    return np.mean(metastabilities)\n",
    "\n",
    "def chimera(phase, cortices, p, channel=0):\n",
    "    N = int((1-p)*phase.shape[0])\n",
    "    chimeras = []\n",
    "    M = len(cortices)\n",
    "    average = np.mean([order(phase[N:, cortex[0]:cortex[1]]) for cortex in cortices])\n",
    "    s = np.zeros(phase.shape[0] - N)\n",
    "    for cortex in cortices:\n",
    "        ph = phase[N:, cortex[0]:cortex[1]]\n",
    "        s += (order(ph) - average)**2\n",
    "    return s/(M - 1)"
   ]
  },
  {
   "cell_type": "code",
   "execution_count": null,
   "metadata": {},
   "outputs": [],
   "source": [
    "χ = chimera(phase, cortices, 1)"
   ]
  },
  {
   "cell_type": "code",
   "execution_count": null,
   "metadata": {},
   "outputs": [],
   "source": [
    "χ"
   ]
  },
  {
   "cell_type": "code",
   "execution_count": null,
   "metadata": {},
   "outputs": [],
   "source": [
    "plt.plot(χ)\n",
    "plt.plot(order(phase))"
   ]
  },
  {
   "cell_type": "code",
   "execution_count": null,
   "metadata": {},
   "outputs": [],
   "source": [
    "metastabilities = metastability(phase, cortices, 0.04)"
   ]
  },
  {
   "cell_type": "code",
   "execution_count": null,
   "metadata": {},
   "outputs": [],
   "source": [
    "metastabilities"
   ]
  }
 ],
 "metadata": {
  "kernelspec": {
   "display_name": "Python 3",
   "language": "python",
   "name": "python3"
  },
  "language_info": {
   "codemirror_mode": {
    "name": "ipython",
    "version": 3
   },
   "file_extension": ".py",
   "mimetype": "text/x-python",
   "name": "python",
   "nbconvert_exporter": "python",
   "pygments_lexer": "ipython3",
   "version": "3.7.1"
  }
 },
 "nbformat": 4,
 "nbformat_minor": 2
}
