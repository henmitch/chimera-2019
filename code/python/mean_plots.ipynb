{
 "cells": [
  {
   "cell_type": "code",
   "execution_count": null,
   "metadata": {},
   "outputs": [],
   "source": [
    "import argparse\n",
    "import matplotlib.pyplot as plt\n",
    "import numpy as np\n",
    "import pandas as pd\n",
    "import pickle\n",
    "\n",
    "from matplotlib import cm\n",
    "from run import order"
   ]
  },
  {
   "cell_type": "code",
   "execution_count": null,
   "metadata": {},
   "outputs": [],
   "source": [
    "size = (12, 7)\n",
    "start = 0\n",
    "p = 1"
   ]
  },
  {
   "cell_type": "code",
   "execution_count": null,
   "metadata": {},
   "outputs": [],
   "source": [
    "# parser = argparse.ArgumentParser(\n",
    "#     description=\"Plot the results of the chimera experiments\")\n",
    "# parser.add_argument(\n",
    "#     \"f\", metavar=\"f\", type=str, nargs=1,\n",
    "#     help=\"The file of which we're making a plot.\"\n",
    "# )\n",
    "# file = parser.parse_args().f[0]"
   ]
  },
  {
   "cell_type": "code",
   "execution_count": null,
   "metadata": {},
   "outputs": [],
   "source": [
    "file = \"../../data/0.608-0.267.pkl\""
   ]
  },
  {
   "cell_type": "code",
   "execution_count": null,
   "metadata": {},
   "outputs": [],
   "source": [
    "def similar(matrix, cortices, w=2):\n",
    "    sim = np.empty([matrix.shape[0], matrix.shape[1] + w*(len(cortices) - 1)])\n",
    "    sim[:] = np.nan\n",
    "    for i, cortex in enumerate(cortices):\n",
    "        sim[:, (cortex[0] + w*i):(cortex[1] + w*i)\n",
    "            ] = matrix[:, cortex[0]:cortex[1]]\n",
    "    return sim"
   ]
  },
  {
   "cell_type": "code",
   "execution_count": null,
   "metadata": {},
   "outputs": [],
   "source": [
    "current_cmap = cm.get_cmap()\n",
    "current_cmap.set_bad(color='black')"
   ]
  },
  {
   "cell_type": "code",
   "execution_count": null,
   "metadata": {},
   "outputs": [],
   "source": [
    "metadata = pd.read_excel(\"../connectomes/mouse_meta.xlsx\", sheet_name=None)\n",
    "mtdt = metadata[\"Voxel Count_295 Structures\"]\n",
    "del(metadata)\n",
    "mtdt = mtdt.loc[mtdt[\"Represented in Linear Model Matrix\"] == \"Yes\"]\n",
    "columns = []\n",
    "cortices = [[0, 0]]\n",
    "regions = mtdt[\"Major Region\"].unique()\n",
    "for region in regions:\n",
    "    i = [columns.append(acronym.replace(\" \", \"\")) for acronym in\n",
    "         mtdt.loc[mtdt[\"Major Region\"] == region, \"Acronym\"].values]\n",
    "    cortices.append([cortices[-1][-1], cortices[-1][-1] + len(i)])\n",
    "cortices.remove([0, 0])\n",
    "del(mtdt)"
   ]
  },
  {
   "cell_type": "code",
   "execution_count": null,
   "metadata": {},
   "outputs": [],
   "source": [
    "with open(file, \"rb\") as f:\n",
    "    [(b, i0, x_rev, λ, θ, μ, s, x_rest, α, n1, β, n2, G1, G2),\n",
    "     sol, phase, χ, m] = pickle.load(f)"
   ]
  },
  {
   "cell_type": "code",
   "execution_count": null,
   "metadata": {},
   "outputs": [],
   "source": [
    "N = phase.shape[0]\n",
    "plot_range = slice(int(start*N), int((start + p)*N))\n",
    "phase = phase[plot_range]"
   ]
  },
  {
   "cell_type": "code",
   "execution_count": null,
   "metadata": {},
   "outputs": [],
   "source": [
    "y = sol.y.T.reshape(N, 3, -1)[int(start*N):int((start + p)*N), :, :]\n",
    "del(sol)"
   ]
  },
  {
   "cell_type": "code",
   "execution_count": null,
   "metadata": {},
   "outputs": [],
   "source": [
    "title = f\"alpha: {α:.03f}, beta: {β:.03f}, chi: {χ:.04f}, m: {m:.04f}\""
   ]
  },
  {
   "cell_type": "code",
   "execution_count": null,
   "metadata": {},
   "outputs": [],
   "source": [
    "means = np.zeros([len(cortices), phase.shape[0]])\n",
    "sums = np.copy(means)\n",
    "\n",
    "for i, cortex in enumerate(cortices):\n",
    "    means[i] = np.mean(y[:, 0, cortex[0]:cortex[1]], axis=-1)\n",
    "    sums[i] = np.sum(y[:, 0, cortex[0]:cortex[1]], axis=-1)"
   ]
  },
  {
   "cell_type": "code",
   "execution_count": null,
   "metadata": {},
   "outputs": [],
   "source": [
    "ρ_bar = np.mean(np.array([order(phase[:, low:high])\n",
    "                          for [low, high] in cortices]),\n",
    "                axis=0)\n",
    "\n",
    "sigma = np.sum(np.array([(order(phase[:, low:high]) - ρ_bar)**2\n",
    "                         for [low, high] in cortices]), axis=0)/len(cortices)"
   ]
  },
  {
   "cell_type": "code",
   "execution_count": null,
   "metadata": {},
   "outputs": [],
   "source": [
    "# MEANS\n",
    "for i, mn in enumerate(means):\n",
    "    plt.plot(mn + 2.5*i, lw=0.15, color=\"k\")\n",
    "\n",
    "plt.xlim([0, means.shape[1]])\n",
    "plt.title(title)\n",
    "plt.xlabel(\"time\")\n",
    "plt.ylabel(\"mean x\")\n",
    "\n",
    "plt.yticks([2.5*i for i in range(len(regions))], regions)\n",
    "\n",
    "fig = plt.gcf()\n",
    "fig.set_size_inches(*size, forward=True)\n",
    "fig.savefig(f\"means-{α:.03f}-{β:.03f}.png\", dpi=700,\n",
    "            bbox_inches=\"tight\", format=\"png\")\n",
    "plt.cla()\n",
    "plt.clf()"
   ]
  },
  {
   "cell_type": "code",
   "execution_count": null,
   "metadata": {},
   "outputs": [],
   "source": [
    "# OVERHEAD\n",
    "plt.imshow(similar(phase, cortices, w=1).T, aspect=\"auto\",\n",
    "           origin=\"lower\", interpolation=\"none\")\n",
    "[i.set_linewidth(0.01) for i in plt.gca().spines.values()]\n",
    "plt.xlim([0, phase.shape[0]])\n",
    "plt.title(title)\n",
    "plt.colorbar()\n",
    "fig = plt.gcf()\n",
    "fig.set_size_inches(*size, forward=True)\n",
    "plt.savefig(f\"overhead-{α:.03f}-{β:.03f}.png\",\n",
    "            dpi=500, bbox_inches=\"tight\", format=\"png\")\n",
    "plt.cla()\n",
    "plt.clf()"
   ]
  },
  {
   "cell_type": "code",
   "execution_count": null,
   "metadata": {},
   "outputs": [],
   "source": [
    "# COS(MEAN)\n",
    "plt.plot(np.cos(np.mean(phase, axis=1)))\n",
    "plt.title(title)\n",
    "plt.xlim([0, phase.shape[0]])\n",
    "plt.ylim([-1.05, 1.05])\n",
    "plt.xlabel(\"time\")\n",
    "plt.ylabel(\"cos(mean(phase))\")\n",
    "fig = plt.gcf()\n",
    "fig.set_size_inches(*size, forward=True)\n",
    "plt.savefig(f\"cos_mean-{α:.03f}-{β:.03f}.png\",\n",
    "            dpi=500, bbox_inches=\"tight\", format=\"png\")\n",
    "plt.cla()\n",
    "plt.clf()"
   ]
  },
  {
   "cell_type": "code",
   "execution_count": null,
   "metadata": {},
   "outputs": [],
   "source": [
    "# COS(MEAN_I)\n",
    "for cortex in cortices:\n",
    "    [low, high] = cortex\n",
    "    plt.plot(np.cos(np.mean(phase[:, low:high], axis=1)),\n",
    "             label=f\"{low + 1}-{high}\", lw=0.05)\n",
    "plt.xlim([0, phase.shape[0]])\n",
    "plt.ylim([-1.05, 1.05])\n",
    "plt.xlabel(\"time\")\n",
    "plt.ylabel(\"cos(mean(phi))\")\n",
    "plt.legend(bbox_to_anchor=(1, 1))\n",
    "plt.title(title)\n",
    "fig = plt.gcf()\n",
    "fig.set_size_inches(*size, forward=True)\n",
    "plt.savefig(f\"by_cortex_cos_mean-{α:.03f}-{β:.03f}.png\",\n",
    "            dpi=500, bbox_inches=\"tight\", format=\"png\")\n",
    "plt.cla()\n",
    "plt.clf()"
   ]
  },
  {
   "cell_type": "code",
   "execution_count": null,
   "metadata": {},
   "outputs": [],
   "source": [
    "# ORDER\n",
    "plt.plot(order(phase))\n",
    "plt.xlim([0, phase.shape[0]])\n",
    "plt.ylim([-0.025, 1.025])\n",
    "plt.xlabel(\"time\")\n",
    "plt.ylabel(\"rho\")\n",
    "plt.title(title)\n",
    "fig = plt.gcf()\n",
    "fig.set_size_inches(*size, forward=True)\n",
    "plt.savefig(f\"order-{α:.03f}-{β:.03f}.png\", dpi=500,\n",
    "            bbox_inches=\"tight\", format=\"png\")\n",
    "plt.cla()\n",
    "plt.clf()"
   ]
  },
  {
   "cell_type": "code",
   "execution_count": null,
   "metadata": {},
   "outputs": [],
   "source": [
    "# SIGMA_I\n",
    "for cortex in cortices:\n",
    "    [low, high] = cortex\n",
    "    plt.plot(((order(phase[:, low:high]) - ρ_bar)**2),\n",
    "             label=f\"{low + 1}-{high}\", lw=0.05)\n",
    "plt.xlim([0, phase.shape[0]])\n",
    "plt.ylim([-0.05, 0.62])\n",
    "plt.xlabel(\"time\")\n",
    "plt.ylabel(\"(rho - rho bar)**2\")\n",
    "plt.legend(bbox_to_anchor=(1, 1))\n",
    "plt.title(title)\n",
    "fig = plt.gcf()\n",
    "fig.set_size_inches(*size, forward=True)\n",
    "plt.savefig(f\"by_cortex_variance-{α:.03f}-{β:.03f}.png\",\n",
    "            dpi=500, bbox_inches=\"tight\", format=\"png\")\n",
    "plt.cla()\n",
    "plt.clf()"
   ]
  },
  {
   "cell_type": "code",
   "execution_count": null,
   "metadata": {},
   "outputs": [],
   "source": [
    "# SIGMA\n",
    "plt.plot(sigma)\n",
    "plt.xlim([0, phase.shape[0]])\n",
    "plt.ylim([-0.01, 0.15])\n",
    "plt.xlabel(\"time\")\n",
    "plt.ylabel(\"sigma(chi(t))\")\n",
    "plt.title(title)\n",
    "fig = plt.gcf()\n",
    "fig.set_size_inches(*size, forward=True)\n",
    "plt.savefig(f\"variance-{α:.03f}-{β:.03f}.png\", dpi=500,\n",
    "            bbox_inches=\"tight\", format=\"png\")\n",
    "plt.cla()\n",
    "plt.clf()"
   ]
  },
  {
   "cell_type": "code",
   "execution_count": null,
   "metadata": {},
   "outputs": [],
   "source": [
    "xticks = [cortex[1] + 2*i + 1 for i, cortex in enumerate(cortices)][:-1]"
   ]
  },
  {
   "cell_type": "code",
   "execution_count": null,
   "metadata": {},
   "outputs": [],
   "source": [
    "fig, [means_ax,\n",
    "      overhead_ax,\n",
    "      order_ax,\n",
    "      cos_mean_ax,\n",
    "      by_cortex_cos_mean_ax,\n",
    "      variance_ax,\n",
    "      by_cortex_variance_ax] = plt.subplots(7, 1, sharex=True, squeeze=True)\n",
    "\n",
    "means_ax.set_title(title)\n",
    "\n",
    "for i, mn in enumerate(means):\n",
    "    means_ax.plot(mn + 2.5*i, lw=0.07, color=\"k\")\n",
    "\n",
    "means_ax.tick_params(axis=\"y\",\n",
    "                     left=False)\n",
    "means_ax.set_yticklabels([\"\" for i in means_ax.get_yticks()])\n",
    "\n",
    "\n",
    "[i.set_linewidth(0.01) for i in overhead_ax.spines.values()]\n",
    "overhead_ax.set_xlim([0, phase.shape[0]])\n",
    "\n",
    "overhead_ax.matshow(similar(phase, cortices, 2).T,\n",
    "                    aspect=\"auto\", origin=\"lower\", interpolation=\"none\")\n",
    "overhead_ax.set_yticks(xticks)\n",
    "overhead_ax.set_yticklabels([\"\" for i in xticks])\n",
    "overhead_ax.tick_params(axis=\"y\",\n",
    "                        width=0.2)\n",
    "overhead_ax.tick_params(axis=\"x\",\n",
    "                        top=False)\n",
    "\n",
    "\n",
    "order_ax.plot(order(phase), lw=0.1)\n",
    "order_ax.set_ylim([-0.025, 1.025])\n",
    "\n",
    "\n",
    "cos_mean_ax.plot(np.cos(np.mean(phase, axis=1)), lw=0.1)\n",
    "cos_mean_ax.set_ylim([-1.05, 1.05])\n",
    "\n",
    "\n",
    "for cortex in cortices:\n",
    "    [low, high] = cortex\n",
    "    by_cortex_cos_mean_ax.plot(np.cos(np.mean(phase[:, low:high], axis=1)),\n",
    "                               label=f\"{low + 1}-{high}\", lw=0.07)\n",
    "by_cortex_cos_mean_ax.set_ylim([-1.05, 1.05])\n",
    "\n",
    "variance_ax.plot(sigma, lw=0.1)\n",
    "variance_ax.set_ylim([-0.01, 0.15])\n",
    "\n",
    "\n",
    "for cortex in cortices:\n",
    "    [low, high] = cortex\n",
    "    by_cortex_variance_ax.plot(((order(phase[:, low:high]) - ρ_bar)**2),\n",
    "                               label=f\"{low + 1}-{high}\", lw=0.07)\n",
    "by_cortex_variance_ax.set_ylim([-0.05, 0.62])\n",
    "\n",
    "fig.set_size_inches(*size, forward=True)\n",
    "fig.savefig(f\"all-{α:.03f}-{β:.03f}.png\", dpi=700,\n",
    "            bbox_inches=\"tight\", format=\"png\")\n",
    "plt.cla()\n",
    "plt.clf()"
   ]
  }
 ],
 "metadata": {
  "kernelspec": {
   "display_name": "Python 3",
   "language": "python",
   "name": "python3"
  },
  "language_info": {
   "codemirror_mode": {
    "name": "ipython",
    "version": 3
   },
   "file_extension": ".py",
   "mimetype": "text/x-python",
   "name": "python",
   "nbconvert_exporter": "python",
   "pygments_lexer": "ipython3",
   "version": "3.7.2"
  }
 },
 "nbformat": 4,
 "nbformat_minor": 2
}
