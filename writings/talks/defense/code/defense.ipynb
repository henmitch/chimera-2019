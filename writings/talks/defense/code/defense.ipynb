{
 "cells": [
  {
   "cell_type": "code",
   "execution_count": 1,
   "metadata": {},
   "outputs": [],
   "source": [
    "import matplotlib.pyplot as plt\n",
    "import numpy as np\n",
    "\n",
    "from scipy.integrate import solve_ivp"
   ]
  },
  {
   "cell_type": "code",
   "execution_count": 2,
   "metadata": {},
   "outputs": [],
   "source": [
    "def Θ(x, x_rev, λ, θ):\n",
    "    xk, xj = np.meshgrid(x, x)\n",
    "    return (xj - x_rev)/(1 + np.exp(-λ*(xk - θ)))"
   ]
  },
  {
   "cell_type": "code",
   "execution_count": 3,
   "metadata": {},
   "outputs": [],
   "source": [
    "def hr_dots(current, _,\n",
    "            b, i0, x_rev, λ, θ, μ, s, x_rest):\n",
    "    x, y, z = current\n",
    "    theta = Θ(x, x_rev, λ, θ)\n",
    "    dots = np.zeros_like(current)\n",
    "    dots[0] = y - (x**3) + b*(x**2) + i0 - z\n",
    "    dots[1] = 1 - 5*(x**2) - y\n",
    "    dots[2] = μ*(s*(x - x_rest) - z)\n",
    "    return dots"
   ]
  },
  {
   "cell_type": "code",
   "execution_count": 4,
   "metadata": {},
   "outputs": [],
   "source": [
    "# SPECIFIC PARAMETERS\n",
    "b = 3.2                            # Controls spiking frequency\n",
    "# Input current --- An array to add noise\n",
    "i0 = 4.4\n",
    "x_rev = 2                          # Reverse potential\n",
    "λ = 10                             # Sigmoidal function parameter\n",
    "θ = -0.25                          # Sigmoidal function parameter\n",
    "μ = 0.01                           # Time scale of slow current\n",
    "# Governs adaptation (whatever that means)\n",
    "s = 4.0\n",
    "x_rest = -1.6                      # Resting potential --- INCORRECT IN SANTOS PAPER"
   ]
  },
  {
   "cell_type": "code",
   "execution_count": 5,
   "metadata": {},
   "outputs": [],
   "source": [
    "ivs = np.zeros(3)    # Initial values [[x], [y], [z]]\n",
    "ivs[0] = 3.0*np.random.random() - 1.0\n",
    "ivs[1] = 0.2*np.random.random()\n",
    "ivs[2] = 0.2*np.random.random()"
   ]
  },
  {
   "cell_type": "code",
   "execution_count": 6,
   "metadata": {},
   "outputs": [],
   "source": [
    "tmax = 400\n",
    "N = 100*tmax\n",
    "t = np.linspace(0, tmax, N)"
   ]
  },
  {
   "cell_type": "code",
   "execution_count": 10,
   "metadata": {},
   "outputs": [
    {
     "name": "stdout",
     "output_type": "stream",
     "text": [
      "Finding solution...  "
     ]
    },
    {
     "name": "stderr",
     "output_type": "stream",
     "text": [
      "/usr/local/lib/python3.7/site-packages/ipykernel_launcher.py:3: RuntimeWarning: overflow encountered in exp\n",
      "  This is separate from the ipykernel package so we can avoid doing imports until\n"
     ]
    },
    {
     "name": "stdout",
     "output_type": "stream",
     "text": [
      "Found solution\n",
      "CPU times: user 1.13 s, sys: 20.7 ms, total: 1.15 s\n",
      "Wall time: 1.19 s\n"
     ]
    }
   ],
   "source": [
    "%%time\n",
    "params = (b, i0, x_rev, λ, θ, μ, s, x_rest)\n",
    "print(\"Finding solution... \", end=\" \")\n",
    "sol = solve_ivp(fun=lambda t_in, y_in: hr_dots(y_in, t_in, *params),\n",
    "                t_span=(-200, tmax), t_eval=t, y0=ivs, method=\"RK45\")\n",
    "print(\"Found solution\")"
   ]
  },
  {
   "cell_type": "code",
   "execution_count": 11,
   "metadata": {},
   "outputs": [
    {
     "data": {
      "text/plain": [
       "(3, 40000)"
      ]
     },
     "execution_count": 11,
     "metadata": {},
     "output_type": "execute_result"
    }
   ],
   "source": [
    "sol.y.shape"
   ]
  },
  {
   "cell_type": "code",
   "execution_count": 12,
   "metadata": {},
   "outputs": [
    {
     "data": {
      "image/png": "[encoded data removed]",
      "text/plain": [
       "<Figure size 432x72 with 1 Axes>"
      ]
     },
     "metadata": {},
     "output_type": "display_data"
    }
   ],
   "source": [
    "tm, tx = 10_000, 20_000\n",
    "plt.plot(sol.t[tm:tx], sol.y[0, tm:tx])\n",
    "plt.xlabel(r\"$t$\")\n",
    "plt.ylabel(r\"$x$\")\n",
    "plt.xlim([sol.t[tm], sol.t[tx]])\n",
    "plt.gcf().set_size_inches(6, 1)\n",
    "\n",
    "plt.savefig(\"../figure/action_potential\", dpi=700, bbox_inches=\"tight\")"
   ]
  },
  {
   "cell_type": "code",
   "execution_count": 13,
   "metadata": {},
   "outputs": [],
   "source": [
    "from scipy.signal import argrelmax"
   ]
  },
  {
   "cell_type": "code",
   "execution_count": 14,
   "metadata": {},
   "outputs": [],
   "source": [
    "maxes = sol.t[argrelmax(sol.y[0])[0]]"
   ]
  },
  {
   "cell_type": "code",
   "execution_count": 15,
   "metadata": {},
   "outputs": [
    {
     "data": {
      "text/plain": [
       "array([  4.280107  ,  17.18042951,  30.27075677,  43.68109203,\n",
       "        56.99142479,  70.40176004,  83.8920973 ,  97.57243931,\n",
       "       111.09277732, 124.72311808, 138.33345834, 151.99379984,\n",
       "       165.69414235, 179.39448486, 192.97482437, 206.63516588,\n",
       "       220.18550464, 233.84584615, 247.5561889 , 261.25653141,\n",
       "       274.83687092, 288.47721193, 302.02755069, 315.73789345,\n",
       "       329.46823671, 343.07857696, 356.64891622, 370.31925798,\n",
       "       383.94959874, 397.5799395 ])"
      ]
     },
     "execution_count": 15,
     "metadata": {},
     "output_type": "execute_result"
    }
   ],
   "source": [
    "maxes"
   ]
  },
  {
   "cell_type": "code",
   "execution_count": 16,
   "metadata": {},
   "outputs": [
    {
     "data": {
      "text/plain": [
       "array([12.90032251, 13.09032726, 13.41033526, 13.31033276, 13.41033526,\n",
       "       13.49033726, 13.68034201, 13.52033801, 13.63034076, 13.61034026,\n",
       "       13.66034151, 13.70034251, 13.70034251, 13.58033951, 13.66034151,\n",
       "       13.55033876, 13.66034151, 13.71034276, 13.70034251, 13.58033951,\n",
       "       13.64034101, 13.55033876, 13.71034276, 13.73034326, 13.61034026,\n",
       "       13.57033926, 13.67034176, 13.63034076, 13.63034076])"
      ]
     },
     "execution_count": 16,
     "metadata": {},
     "output_type": "execute_result"
    }
   ],
   "source": [
    "(maxes[1:] - maxes[:-1])"
   ]
  }
 ],
 "metadata": {
  "kernelspec": {
   "display_name": "Python 3",
   "language": "python",
   "name": "python3"
  },
  "language_info": {
   "codemirror_mode": {
    "name": "ipython",
    "version": 3
   },
   "file_extension": ".py",
   "mimetype": "text/x-python",
   "name": "python",
   "nbconvert_exporter": "python",
   "pygments_lexer": "ipython3",
   "version": "3.7.3"
  }
 },
 "nbformat": 4,
 "nbformat_minor": 2
}
